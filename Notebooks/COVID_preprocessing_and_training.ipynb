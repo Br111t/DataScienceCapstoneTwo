{
 "cells": [
  {
   "cell_type": "markdown",
   "metadata": {},
   "source": [
    "# 4 Pre-Processing and Training Data<a id='4_Pre-Processing_and_Training_Data'></a>"
   ]
  },
  {
   "cell_type": "code",
   "execution_count": null,
   "metadata": {},
   "outputs": [],
   "source": [
    "## 4.1 Contents<a id='4.1_Contents'></a>\n",
    "* [4 Pre-Processing and Training Data](#4_Pre-Processing_and_Training_Data)\n",
    "  * [4.1 Contents](#4.1_Contents)\n",
    "  * [4.2 Introduction](#4.2_Introduction)\n",
    "  * [4.3 Imports](#4.3_Imports)\n",
    "  * [4.4 Load Data](#4.4_Load_Data)\n",
    "  * [4.5 Choosing Models and Lags](#4.5_Choosing_Models_and_Lags)\n",
    "    * [4.5.1 Africa Subset COVID-19 Distribution](#4.5.1_Africa_Subset_COVID-19_Distribution)\n",
    "    * [4.5.2 Asia Subset COVID-19 Distribution](#4.5.2_Asia_Subset_COVID-19_Distribution)\n",
    "    * [4.5.3 Europe Subset COVID-19 Distribution](#4.5.3_Europe_Subset_COVID-19_Distribution)\n",
    "    * [4.5.4 E Subset COVID-19 Distribution](#4.5.4_Europe_Subset_COVID-19_Distribution)\n",
    "  * [4.6 Active and Recovered COVID-19 cases by Continent](#4.6_Active_and_Recovered_COVID-19_Cases_by_Continent)\n",
    "  * [4.6 Train/Test Split](#4.6_Train/Test_Split)\n",
    "  * [4.7 Initial Not-Even-A-Model](#4.7_Initial_Not-Even-A-Model)\n",
    "    * [4.7.1 Metrics](#4.7.1_Metrics)\n",
    "      * [4.7.1.1 R-squared, or coefficient of determination](#4.7.1.1_R-squared,_or_coefficient_of_determination)\n",
    "      * [4.7.1.2 Mean Absolute Error](#4.7.1.2_Mean_Absolute_Error)\n",
    "      * [4.7.1.3 Mean Squared Error](#4.7.1.3_Mean_Squared_Error)\n",
    "    * [4.7.2 sklearn metrics](#4.7.2_sklearn_metrics)\n",
    "        * [4.7.2.0.1 R-squared](#4.7.2.0.1_R-squared)\n",
    "        * [4.7.2.0.2 Mean absolute error](#4.7.2.0.2_Mean_absolute_error)\n",
    "        * [4.7.2.0.3 Mean squared error](#4.7.2.0.3_Mean_squared_error)\n",
    "    * [4.7.3 Note On Calculating Metrics](#4.7.3_Note_On_Calculating_Metrics)\n",
    "  * [4.8 Initial Models](#4.8_Initial_Models)\n",
    "    * [4.8.1 Imputing missing feature (predictor) values](#4.8.1_Imputing_missing_feature_(predictor)_values)\n",
    "      * [4.8.1.1 Impute missing values with median](#4.8.1.1_Impute_missing_values_with_median)\n",
    "        * [4.8.1.1.1 Learn the values to impute from the train set](#4.8.1.1.1_Learn_the_values_to_impute_from_the_train_set)\n",
    "        * [4.8.1.1.2 Apply the imputation to both train and test splits](#4.8.1.1.2_Apply_the_imputation_to_both_train_and_test_splits)\n",
    "        * [4.8.1.1.3 Scale the data](#4.8.1.1.3_Scale_the_data)\n",
    "        * [4.8.1.1.4 Train the model on the train split](#4.8.1.1.4_Train_the_model_on_the_train_split)\n",
    "        * [4.8.1.1.5 Make predictions using the model on both train and test splits](#4.8.1.1.5_Make_predictions_using_the_model_on_both_train_and_test_splits)\n",
    "        * [4.8.1.1.6 Assess model performance](#4.8.1.1.6_Assess_model_performance)\n",
    "      * [4.8.1.2 Impute missing values with the mean](#4.8.1.2_Impute_missing_values_with_the_mean)\n",
    "        * [4.8.1.2.1 Learn the values to impute from the train set](#4.8.1.2.1_Learn_the_values_to_impute_from_the_train_set)\n",
    "        * [4.8.1.2.2 Apply the imputation to both train and test splits](#4.8.1.2.2_Apply_the_imputation_to_both_train_and_test_splits)\n",
    "        * [4.8.1.2.3 Scale the data](#4.8.1.2.3_Scale_the_data)\n",
    "        * [4.8.1.2.4 Train the model on the train split](#4.8.1.2.4_Train_the_model_on_the_train_split)\n",
    "        * [4.8.1.2.5 Make predictions using the model on both train and test splits](#4.8.1.2.5_Make_predictions_using_the_model_on_both_train_and_test_splits)\n",
    "        * [4.8.1.2.6 Assess model performance](#4.8.1.2.6_Assess_model_performance)\n",
    "    * [4.8.2 Pipelines](#4.8.2_Pipelines)\n",
    "      * [4.8.2.1 Define the pipeline](#4.8.2.1_Define_the_pipeline)\n",
    "      * [4.8.2.2 Fit the pipeline](#4.8.2.2_Fit_the_pipeline)\n",
    "      * [4.8.2.3 Make predictions on the train and test sets](#4.8.2.3_Make_predictions_on_the_train_and_test_sets)\n",
    "      * [4.8.2.4 Assess performance](#4.8.2.4_Assess_performance)\n",
    "  * [4.9 Refining The Linear Model](#4.9_Refining_The_Linear_Model)\n",
    "    * [4.9.1 Define the pipeline](#4.9.1_Define_the_pipeline)\n",
    "    * [4.9.2 Fit the pipeline](#4.9.2_Fit_the_pipeline)\n",
    "    * [4.9.3 Assess performance on the train and test set](#4.9.3_Assess_performance_on_the_train_and_test_set)\n",
    "    * [4.9.4 Define a new pipeline to select a different number of features](#4.9.4_Define_a_new_pipeline_to_select_a_different_number_of_features)\n",
    "    * [4.9.5 Fit the pipeline](#4.9.5_Fit_the_pipeline)\n",
    "    * [4.9.6 Assess performance on train and test data](#4.9.6_Assess_performance_on_train_and_test_data)\n",
    "    * [4.9.7 Assessing performance using cross-validation](#4.9.7_Assessing_performance_using_cross-validation)\n",
    "    * [4.9.8 Hyperparameter search using GridSearchCV](#4.9.8_Hyperparameter_search_using_GridSearchCV)\n",
    "  * [4.10 Random Forest Model](#4.10_Random_Forest_Model)\n",
    "    * [4.10.1 Define the pipeline](#4.10.1_Define_the_pipeline)\n",
    "    * [4.10.2 Fit and assess performance using cross-validation](#4.10.2_Fit_and_assess_performance_using_cross-validation)\n",
    "    * [4.10.3 Hyperparameter search using GridSearchCV](#4.10.3_Hyperparameter_search_using_GridSearchCV)\n",
    "  * [4.11 Final Model Selection](#4.11_Final_Model_Selection)\n",
    "    * [4.11.1 Linear regression model performance](#4.11.1_Linear_regression_model_performance)\n",
    "    * [4.11.2 Random forest regression model performance](#4.11.2_Random_forest_regression_model_performance)\n",
    "    * [4.11.3 Conclusion](#4.11.3_Conclusion)\n",
    "  * [4.12 Data quantity assessment](#4.12_Data_quantity_assessment)\n",
    "  * [4.13 Save best model object from pipeline](#4.13_Save_best_model_object_from_pipeline)\n",
    "  * [4.14 Summary](#4.14_Summary)\n"
   ]
  },
  {
   "cell_type": "markdown",
   "metadata": {},
   "source": [
    "## 4.2 Introduction<a id='4.2_Introduction'></a>"
   ]
  },
  {
   "cell_type": "markdown",
   "metadata": {},
   "source": [
    "Time series analysis has some things in common with discussion of probability and regression\n",
    "* In many cases, we can describe parts of time series processes in terms of a randomized variable with statistical moments, though an important feature of many time series processes is that their mean and/or variance change through time. \n",
    "* Like regression, time series analysis is often focused on identifying underlying trends and patterns, describing them mathematically, and ultimately making a prediction or forecast about what will happen next.  \n",
    "In this instance the data can be modeled to identify the trends for active and recovered patients. A big part of this time series analysis will involve filtering - i.e. changing attributes of a time series or deconstructing it into it's component parts.  \n",
    "\n"
   ]
  },
  {
   "cell_type": "markdown",
   "metadata": {},
   "source": [
    "## 4.3 Imports<a id='4.3_Imports'></a>"
   ]
  },
  {
   "cell_type": "code",
   "execution_count": 253,
   "metadata": {},
   "outputs": [],
   "source": [
    "import pandas as pd \n",
    "import numpy as np\n",
    "from statsmodels.tsa.stattools import adfuller\n",
    "import matplotlib.pyplot as plt\n",
    "from sklearn.metrics import mean_squared_error\n",
    "from sklearn import __version__ as sklearn_version\n",
    "from statsmodels.tsa.arima_model import ARIMA\n",
    "from statsmodels import __version__ as statsmodels_version\n",
    "import pickle\n",
    "import datetime\n",
    "import seaborn as sns\n",
    "from matplotlib.dates import DateFormatter\n",
    "import matplotlib.dates as mdates\n"
   ]
  },
  {
   "cell_type": "markdown",
   "metadata": {},
   "source": [
    "## 4.4 Load Data<a id='4.4_Load_Data'></a>"
   ]
  },
  {
   "cell_type": "code",
   "execution_count": 105,
   "metadata": {},
   "outputs": [],
   "source": [
    "af_df = pd.read_csv('../data/mor_df.csv',  index_col=0)\n",
    "asia_df = pd.read_csv('../data/asia_df.csv',  index_col=0)\n",
    "eu_df = pd.read_csv('../data/eu_df.csv',  index_col=0)\n",
    "noam_df = pd.read_csv('../data/noam_df.csv',  index_col=0)\n",
    "soam_df = pd.read_csv('../data/soam_df.csv',  index_col=0)"
   ]
  },
  {
   "cell_type": "markdown",
   "metadata": {},
   "source": [
    "## 4.5 Choosing Models and Lags<a id='4.5_Choosing_Models_and_Lags'></a>"
   ]
  },
  {
   "cell_type": "markdown",
   "metadata": {},
   "source": [
    "The Augmented dickey Fuller Test (ADF) is a unit root test for stationarity. Unit roots can cause unpredictable results in your time series analysis, it should be used with caution because it has a high Type I error rate. The type I error (false positive). So in this case it would be identifying more recovered and active cases per country, a cautious approach to disease transmission. \n",
    "\n",
    "Before running the ADF test, the data must be inspected to figure out an appropriate regression model. A nonzero mean indicates the regression will have a constant term. The three basic regression models are: \n",
    "\n",
    "* No constant, no trend: $ \\Delta y_t = \\gamma y_{t-1} + v_t $\n",
    "* Constant, no trend: $ \\Delta y_t = \\alpha + \\gamma y_{t-1} + v_t $\n",
    "* Constant and trend: $ \\Delta y_t = \\alpha + \\gamma y_{t-1} + \\lambda_t + v_t $"
   ]
  },
  {
   "cell_type": "markdown",
   "metadata": {},
   "source": [
    "### 4.5.1 Africa Subset COVID-19 Data Distribution<a id='4.5.1_Africa_Subset_COVID-19_Data_Distribution'></a>"
   ]
  },
  {
   "cell_type": "code",
   "execution_count": 318,
   "metadata": {
    "scrolled": true
   },
   "outputs": [
    {
     "data": {
      "text/html": [
       "<div>\n",
       "<style scoped>\n",
       "    .dataframe tbody tr th:only-of-type {\n",
       "        vertical-align: middle;\n",
       "    }\n",
       "\n",
       "    .dataframe tbody tr th {\n",
       "        vertical-align: top;\n",
       "    }\n",
       "\n",
       "    .dataframe thead th {\n",
       "        text-align: right;\n",
       "    }\n",
       "</style>\n",
       "<table border=\"1\" class=\"dataframe\">\n",
       "  <thead>\n",
       "    <tr style=\"text-align: right;\">\n",
       "      <th></th>\n",
       "      <th>active</th>\n",
       "      <th>recovered</th>\n",
       "    </tr>\n",
       "  </thead>\n",
       "  <tbody>\n",
       "    <tr>\n",
       "      <th>count</th>\n",
       "      <td>305.000000</td>\n",
       "      <td>305.000000</td>\n",
       "    </tr>\n",
       "    <tr>\n",
       "      <th>mean</th>\n",
       "      <td>14360.632787</td>\n",
       "      <td>87886.806557</td>\n",
       "    </tr>\n",
       "    <tr>\n",
       "      <th>std</th>\n",
       "      <td>15302.152060</td>\n",
       "      <td>120415.005947</td>\n",
       "    </tr>\n",
       "    <tr>\n",
       "      <th>min</th>\n",
       "      <td>1.000000</td>\n",
       "      <td>0.000000</td>\n",
       "    </tr>\n",
       "    <tr>\n",
       "      <th>25%</th>\n",
       "      <td>2148.000000</td>\n",
       "      <td>3660.000000</td>\n",
       "    </tr>\n",
       "    <tr>\n",
       "      <th>50%</th>\n",
       "      <td>6688.000000</td>\n",
       "      <td>17960.000000</td>\n",
       "    </tr>\n",
       "    <tr>\n",
       "      <th>75%</th>\n",
       "      <td>24726.000000</td>\n",
       "      <td>138989.000000</td>\n",
       "    </tr>\n",
       "    <tr>\n",
       "      <th>max</th>\n",
       "      <td>49800.000000</td>\n",
       "      <td>407504.000000</td>\n",
       "    </tr>\n",
       "  </tbody>\n",
       "</table>\n",
       "</div>"
      ],
      "text/plain": [
       "             active      recovered\n",
       "count    305.000000     305.000000\n",
       "mean   14360.632787   87886.806557\n",
       "std    15302.152060  120415.005947\n",
       "min        1.000000       0.000000\n",
       "25%     2148.000000    3660.000000\n",
       "50%     6688.000000   17960.000000\n",
       "75%    24726.000000  138989.000000\n",
       "max    49800.000000  407504.000000"
      ]
     },
     "execution_count": 318,
     "metadata": {},
     "output_type": "execute_result"
    }
   ],
   "source": [
    "af_df['date'] = pd.to_datetime(af_df['date'])\n",
    "af = af_df[['date','active','recovered']].groupby(pd.Grouper(key='date', axis=0, freq='1D', sort=True)).sum()\n",
    "af[180:220] = af[180:220].replace(to_replace=0, method='ffill')\n",
    "af.describe()"
   ]
  },
  {
   "cell_type": "markdown",
   "metadata": {},
   "source": [
    "### 4.5.2 Asia Subset COVID-19 Data Distribution<a id='4.5.2_Asia_Subset_COVID-19_Data_Distribution'></a>"
   ]
  },
  {
   "cell_type": "code",
   "execution_count": 323,
   "metadata": {
    "scrolled": false
   },
   "outputs": [
    {
     "data": {
      "text/html": [
       "<div>\n",
       "<style scoped>\n",
       "    .dataframe tbody tr th:only-of-type {\n",
       "        vertical-align: middle;\n",
       "    }\n",
       "\n",
       "    .dataframe tbody tr th {\n",
       "        vertical-align: top;\n",
       "    }\n",
       "\n",
       "    .dataframe thead th {\n",
       "        text-align: right;\n",
       "    }\n",
       "</style>\n",
       "<table border=\"1\" class=\"dataframe\">\n",
       "  <thead>\n",
       "    <tr style=\"text-align: right;\">\n",
       "      <th></th>\n",
       "      <th>active</th>\n",
       "      <th>recovered</th>\n",
       "    </tr>\n",
       "  </thead>\n",
       "  <tbody>\n",
       "    <tr>\n",
       "      <th>count</th>\n",
       "      <td>3.450000e+02</td>\n",
       "      <td>3.450000e+02</td>\n",
       "    </tr>\n",
       "    <tr>\n",
       "      <th>mean</th>\n",
       "      <td>5.010584e+05</td>\n",
       "      <td>3.524378e+06</td>\n",
       "    </tr>\n",
       "    <tr>\n",
       "      <th>std</th>\n",
       "      <td>4.137152e+05</td>\n",
       "      <td>4.298139e+06</td>\n",
       "    </tr>\n",
       "    <tr>\n",
       "      <th>min</th>\n",
       "      <td>5.020000e+02</td>\n",
       "      <td>2.800000e+01</td>\n",
       "    </tr>\n",
       "    <tr>\n",
       "      <th>25%</th>\n",
       "      <td>1.025040e+05</td>\n",
       "      <td>9.358400e+04</td>\n",
       "    </tr>\n",
       "    <tr>\n",
       "      <th>50%</th>\n",
       "      <td>4.680090e+05</td>\n",
       "      <td>1.020034e+06</td>\n",
       "    </tr>\n",
       "    <tr>\n",
       "      <th>75%</th>\n",
       "      <td>8.346950e+05</td>\n",
       "      <td>6.936160e+06</td>\n",
       "    </tr>\n",
       "    <tr>\n",
       "      <th>max</th>\n",
       "      <td>1.859050e+06</td>\n",
       "      <td>1.367231e+07</td>\n",
       "    </tr>\n",
       "  </tbody>\n",
       "</table>\n",
       "</div>"
      ],
      "text/plain": [
       "             active     recovered\n",
       "count  3.450000e+02  3.450000e+02\n",
       "mean   5.010584e+05  3.524378e+06\n",
       "std    4.137152e+05  4.298139e+06\n",
       "min    5.020000e+02  2.800000e+01\n",
       "25%    1.025040e+05  9.358400e+04\n",
       "50%    4.680090e+05  1.020034e+06\n",
       "75%    8.346950e+05  6.936160e+06\n",
       "max    1.859050e+06  1.367231e+07"
      ]
     },
     "execution_count": 323,
     "metadata": {},
     "output_type": "execute_result"
    }
   ],
   "source": [
    "asia_df['date'] = pd.to_datetime(asia_df.index)\n",
    "asia = asia_df[['date','active','recovered']].groupby(pd.Grouper(key='date', axis=0, freq='1D', sort=True)).sum()\n",
    "asia[220:280] = asia[220:280].replace(to_replace=0, method='ffill')\n",
    "asia.describe()"
   ]
  },
  {
   "cell_type": "markdown",
   "metadata": {},
   "source": [
    "### 4.5.3 Europe Subset COVID-19 Data Distribution<a id='4.5.3_Europe_Subset_COVID-19_Data_Distribution'></a>"
   ]
  },
  {
   "cell_type": "code",
   "execution_count": 328,
   "metadata": {
    "scrolled": true
   },
   "outputs": [
    {
     "data": {
      "text/html": [
       "<div>\n",
       "<style scoped>\n",
       "    .dataframe tbody tr th:only-of-type {\n",
       "        vertical-align: middle;\n",
       "    }\n",
       "\n",
       "    .dataframe tbody tr th {\n",
       "        vertical-align: top;\n",
       "    }\n",
       "\n",
       "    .dataframe thead th {\n",
       "        text-align: right;\n",
       "    }\n",
       "</style>\n",
       "<table border=\"1\" class=\"dataframe\">\n",
       "  <thead>\n",
       "    <tr style=\"text-align: right;\">\n",
       "      <th></th>\n",
       "      <th>active</th>\n",
       "      <th>recovered</th>\n",
       "    </tr>\n",
       "  </thead>\n",
       "  <tbody>\n",
       "    <tr>\n",
       "      <th>count</th>\n",
       "      <td>3.430000e+02</td>\n",
       "      <td>3.430000e+02</td>\n",
       "    </tr>\n",
       "    <tr>\n",
       "      <th>mean</th>\n",
       "      <td>1.881143e+06</td>\n",
       "      <td>1.476253e+06</td>\n",
       "    </tr>\n",
       "    <tr>\n",
       "      <th>std</th>\n",
       "      <td>2.448128e+06</td>\n",
       "      <td>1.594351e+06</td>\n",
       "    </tr>\n",
       "    <tr>\n",
       "      <th>min</th>\n",
       "      <td>0.000000e+00</td>\n",
       "      <td>0.000000e+00</td>\n",
       "    </tr>\n",
       "    <tr>\n",
       "      <th>25%</th>\n",
       "      <td>5.011070e+05</td>\n",
       "      <td>2.502625e+05</td>\n",
       "    </tr>\n",
       "    <tr>\n",
       "      <th>50%</th>\n",
       "      <td>6.943510e+05</td>\n",
       "      <td>1.141371e+06</td>\n",
       "    </tr>\n",
       "    <tr>\n",
       "      <th>75%</th>\n",
       "      <td>2.040702e+06</td>\n",
       "      <td>1.820758e+06</td>\n",
       "    </tr>\n",
       "    <tr>\n",
       "      <th>max</th>\n",
       "      <td>8.276404e+06</td>\n",
       "      <td>6.733676e+06</td>\n",
       "    </tr>\n",
       "  </tbody>\n",
       "</table>\n",
       "</div>"
      ],
      "text/plain": [
       "             active     recovered\n",
       "count  3.430000e+02  3.430000e+02\n",
       "mean   1.881143e+06  1.476253e+06\n",
       "std    2.448128e+06  1.594351e+06\n",
       "min    0.000000e+00  0.000000e+00\n",
       "25%    5.011070e+05  2.502625e+05\n",
       "50%    6.943510e+05  1.141371e+06\n",
       "75%    2.040702e+06  1.820758e+06\n",
       "max    8.276404e+06  6.733676e+06"
      ]
     },
     "execution_count": 328,
     "metadata": {},
     "output_type": "execute_result"
    }
   ],
   "source": [
    "eu_df['date'] = pd.to_datetime(eu_df.index)\n",
    "eu = eu_df[['date','active','recovered']].groupby(pd.Grouper(key='date', axis=0, freq='1D', sort=True)).sum()\n",
    "eu[210:250] = eu[210:250].replace(to_replace=0, method='ffill')\n",
    "eu.describe()"
   ]
  },
  {
   "cell_type": "markdown",
   "metadata": {},
   "source": [
    "### 4.5.4 North America Subset COVID-19 Data Distribution<a id='4.5.4_North_America_Subset_COVID-19_Data_Distribution'></a>"
   ]
  },
  {
   "cell_type": "code",
   "execution_count": 331,
   "metadata": {
    "scrolled": false
   },
   "outputs": [
    {
     "data": {
      "text/html": [
       "<div>\n",
       "<style scoped>\n",
       "    .dataframe tbody tr th:only-of-type {\n",
       "        vertical-align: middle;\n",
       "    }\n",
       "\n",
       "    .dataframe tbody tr th {\n",
       "        vertical-align: top;\n",
       "    }\n",
       "\n",
       "    .dataframe thead th {\n",
       "        text-align: right;\n",
       "    }\n",
       "</style>\n",
       "<table border=\"1\" class=\"dataframe\">\n",
       "  <thead>\n",
       "    <tr style=\"text-align: right;\">\n",
       "      <th></th>\n",
       "      <th>active</th>\n",
       "      <th>recovered</th>\n",
       "    </tr>\n",
       "  </thead>\n",
       "  <tbody>\n",
       "    <tr>\n",
       "      <th>count</th>\n",
       "      <td>3.450000e+02</td>\n",
       "      <td>3.450000e+02</td>\n",
       "    </tr>\n",
       "    <tr>\n",
       "      <th>mean</th>\n",
       "      <td>3.458393e+06</td>\n",
       "      <td>1.909900e+06</td>\n",
       "    </tr>\n",
       "    <tr>\n",
       "      <th>std</th>\n",
       "      <td>4.213188e+06</td>\n",
       "      <td>2.030544e+06</td>\n",
       "    </tr>\n",
       "    <tr>\n",
       "      <th>min</th>\n",
       "      <td>0.000000e+00</td>\n",
       "      <td>0.000000e+00</td>\n",
       "    </tr>\n",
       "    <tr>\n",
       "      <th>25%</th>\n",
       "      <td>6.289880e+05</td>\n",
       "      <td>7.121500e+04</td>\n",
       "    </tr>\n",
       "    <tr>\n",
       "      <th>50%</th>\n",
       "      <td>2.220813e+06</td>\n",
       "      <td>1.314575e+06</td>\n",
       "    </tr>\n",
       "    <tr>\n",
       "      <th>75%</th>\n",
       "      <td>4.388998e+06</td>\n",
       "      <td>3.289584e+06</td>\n",
       "    </tr>\n",
       "    <tr>\n",
       "      <th>max</th>\n",
       "      <td>1.992028e+07</td>\n",
       "      <td>7.712306e+06</td>\n",
       "    </tr>\n",
       "  </tbody>\n",
       "</table>\n",
       "</div>"
      ],
      "text/plain": [
       "             active     recovered\n",
       "count  3.450000e+02  3.450000e+02\n",
       "mean   3.458393e+06  1.909900e+06\n",
       "std    4.213188e+06  2.030544e+06\n",
       "min    0.000000e+00  0.000000e+00\n",
       "25%    6.289880e+05  7.121500e+04\n",
       "50%    2.220813e+06  1.314575e+06\n",
       "75%    4.388998e+06  3.289584e+06\n",
       "max    1.992028e+07  7.712306e+06"
      ]
     },
     "execution_count": 331,
     "metadata": {},
     "output_type": "execute_result"
    }
   ],
   "source": [
    "noam_df['date'] = pd.to_datetime(noam_df.index)\n",
    "noam = noam_df[['date','active','recovered']].groupby(pd.Grouper(key='date', axis=0, freq='1D', sort=True)).sum()\n",
    "noam[215:255] = noam[215:255].replace(to_replace=0, method='ffill')\n",
    "noam.describe()"
   ]
  },
  {
   "cell_type": "markdown",
   "metadata": {},
   "source": [
    "### 4.5.5 South America Subset COVID-19 Data Distribution<a id='4.5.5_South_America_Subset_COVID-19_Data_Distribution'></a>"
   ]
  },
  {
   "cell_type": "code",
   "execution_count": 336,
   "metadata": {
    "scrolled": false
   },
   "outputs": [
    {
     "data": {
      "text/html": [
       "<div>\n",
       "<style scoped>\n",
       "    .dataframe tbody tr th:only-of-type {\n",
       "        vertical-align: middle;\n",
       "    }\n",
       "\n",
       "    .dataframe tbody tr th {\n",
       "        vertical-align: top;\n",
       "    }\n",
       "\n",
       "    .dataframe thead th {\n",
       "        text-align: right;\n",
       "    }\n",
       "</style>\n",
       "<table border=\"1\" class=\"dataframe\">\n",
       "  <thead>\n",
       "    <tr style=\"text-align: right;\">\n",
       "      <th></th>\n",
       "      <th>active</th>\n",
       "      <th>recovered</th>\n",
       "    </tr>\n",
       "  </thead>\n",
       "  <tbody>\n",
       "    <tr>\n",
       "      <th>count</th>\n",
       "      <td>344.000000</td>\n",
       "      <td>3.440000e+02</td>\n",
       "    </tr>\n",
       "    <tr>\n",
       "      <th>mean</th>\n",
       "      <td>332783.465116</td>\n",
       "      <td>2.437042e+06</td>\n",
       "    </tr>\n",
       "    <tr>\n",
       "      <th>std</th>\n",
       "      <td>241025.200159</td>\n",
       "      <td>2.494714e+06</td>\n",
       "    </tr>\n",
       "    <tr>\n",
       "      <th>min</th>\n",
       "      <td>0.000000</td>\n",
       "      <td>0.000000e+00</td>\n",
       "    </tr>\n",
       "    <tr>\n",
       "      <th>25%</th>\n",
       "      <td>24135.750000</td>\n",
       "      <td>1.795750e+04</td>\n",
       "    </tr>\n",
       "    <tr>\n",
       "      <th>50%</th>\n",
       "      <td>413141.000000</td>\n",
       "      <td>1.563276e+06</td>\n",
       "    </tr>\n",
       "    <tr>\n",
       "      <th>75%</th>\n",
       "      <td>542086.750000</td>\n",
       "      <td>4.882875e+06</td>\n",
       "    </tr>\n",
       "    <tr>\n",
       "      <th>max</th>\n",
       "      <td>759826.000000</td>\n",
       "      <td>7.426226e+06</td>\n",
       "    </tr>\n",
       "  </tbody>\n",
       "</table>\n",
       "</div>"
      ],
      "text/plain": [
       "              active     recovered\n",
       "count     344.000000  3.440000e+02\n",
       "mean   332783.465116  2.437042e+06\n",
       "std    241025.200159  2.494714e+06\n",
       "min         0.000000  0.000000e+00\n",
       "25%     24135.750000  1.795750e+04\n",
       "50%    413141.000000  1.563276e+06\n",
       "75%    542086.750000  4.882875e+06\n",
       "max    759826.000000  7.426226e+06"
      ]
     },
     "execution_count": 336,
     "metadata": {},
     "output_type": "execute_result"
    }
   ],
   "source": [
    "soam_df['date'] = pd.to_datetime(soam_df.index)\n",
    "soam = soam_df[['date','active','recovered']].groupby(pd.Grouper(key='date', axis=0, freq='1D', sort=True)).sum()\n",
    "soam[215:255] = soam[215:255].replace(to_replace=0, method='ffill')\n",
    "soam.describe()"
   ]
  },
  {
   "cell_type": "markdown",
   "metadata": {},
   "source": [
    "## 4.6 Active and Recovered COVID-19 cases by Continent<a id='4.6_Active_and_Recovered_COVID-19_Cases_by_Continent'></a>"
   ]
  },
  {
   "cell_type": "code",
   "execution_count": 338,
   "metadata": {
    "scrolled": true
   },
   "outputs": [
    {
     "data": {
      "image/png": "[encoded data removed]",
      "text/plain": [
       "<Figure size 1008x1008 with 10 Axes>"
      ]
     },
     "metadata": {
      "needs_background": "light"
     },
     "output_type": "display_data"
    }
   ],
   "source": [
    "fig, axes = plt.subplots(5, 2, figsize=(14, 14))\n",
    "\n",
    "# Define the date format\n",
    "date_form = DateFormatter(\"%m-%d\")\n",
    "\n",
    "# plotting subplots\n",
    "sns.lineplot(ax=axes[0,0], data=noam, x='date', y='active', ci=95)\n",
    "axes[0, 0].set_title('North America Subset COVID-19 Cases 2020', loc='left', pad=15)\n",
    "axes[0, 0].margins(x=0)\n",
    "axes[0, 0].xaxis.set_major_formatter(date_form)\n",
    "axes[0, 0].xaxis.set_major_locator(mdates.WeekdayLocator(interval=5))\n",
    "sns.lineplot(ax=axes[0,1], data=noam, x='date', y='recovered', ci=95)\n",
    "axes[0, 1].margins(x=0)\n",
    "axes[0, 1].xaxis.set_major_formatter(date_form)\n",
    "axes[0, 1].xaxis.set_major_locator(mdates.WeekdayLocator(interval=5))\n",
    "sns.lineplot(ax=axes[1,0], data=asia, x='date', y='active', ci=95)\n",
    "axes[1, 0].set_title('Asia Subset COVID-19 Cases 2020', loc='left', pad=15)\n",
    "axes[1, 0].margins(x=0)\n",
    "axes[1, 0].xaxis.set_major_formatter(date_form)\n",
    "axes[1, 0].xaxis.set_major_locator(mdates.WeekdayLocator(interval=5))\n",
    "sns.lineplot(ax=axes[1, 1], data=asia, x='date', y='recovered', ci=95)\n",
    "axes[1, 1].margins(x=0)\n",
    "axes[1, 1].xaxis.set_major_formatter(date_form)\n",
    "axes[1, 1].xaxis.set_major_locator(mdates.WeekdayLocator(interval=5))\n",
    "sns.lineplot(ax=axes[2, 0], data=eu, x='date', y='active', ci=95)\n",
    "axes[2, 0].set_title('Europe Subset COVID-19 Cases 2020', loc='left', pad=15)\n",
    "axes[2, 0].margins(x=0)\n",
    "axes[2, 0].xaxis.set_major_formatter(date_form)\n",
    "axes[2, 0].xaxis.set_major_locator(mdates.WeekdayLocator(interval=5))\n",
    "sns.lineplot(ax=axes[2, 1], data=eu, x='date', y='recovered', ci=95)\n",
    "axes[2, 1].margins(x=0)\n",
    "axes[2, 1].xaxis.set_major_formatter(date_form)\n",
    "axes[2, 1].xaxis.set_major_locator(mdates.WeekdayLocator(interval=5))\n",
    "sns.lineplot(ax=axes[3, 0], data=af, x='date', y='active', ci=95)\n",
    "axes[3, 0].set_title('Africa Subset COVID-19 Cases 2020', loc='left', pad=15)\n",
    "axes[3, 0].margins(x=0)\n",
    "axes[3, 0].xaxis.set_major_formatter(date_form)\n",
    "axes[3, 0].xaxis.set_major_locator(mdates.WeekdayLocator(interval=5))\n",
    "sns.lineplot(ax=axes[3, 1], data=af, x='date', y='recovered', ci=95)\n",
    "axes[3, 1].margins(x=0)\n",
    "axes[3, 1].xaxis.set_major_formatter(date_form)\n",
    "axes[3, 1].xaxis.set_major_locator(mdates.WeekdayLocator(interval=5))\n",
    "sns.lineplot(ax=axes[4, 0], data=soam, x='date', y='active', ci=95)\n",
    "axes[4, 0].set_title('Africa Subset COVID-19 Cases 2020', loc='left', pad=15)\n",
    "axes[4, 0].margins(x=0)\n",
    "axes[4, 0].xaxis.set_major_formatter(date_form)\n",
    "axes[4, 0].xaxis.set_major_locator(mdates.WeekdayLocator(interval=5))\n",
    "sns.lineplot(ax=axes[4, 1], data=soam, x='date', y='recovered', ci=95)\n",
    "axes[4, 1].margins(x=0)\n",
    "axes[4, 1].xaxis.set_major_formatter(date_form)\n",
    "axes[4, 1].xaxis.set_major_locator(mdates.WeekdayLocator(interval=5))\n",
    "\n",
    "\n",
    "# automatically adjust padding horizontally\n",
    "# as well as vertically.\n",
    "plt.tight_layout()\n",
    " \n",
    "# display plot\n",
    "plt.show()"
   ]
  },
  {
   "cell_type": "markdown",
   "metadata": {},
   "source": [
    "To run the ADF test we need to chose a lag length so that the residuals aren't serially correlated (aka Autocorrelation), this is where error terms in a time series transfer from one period to another.  "
   ]
  },
  {
   "cell_type": "markdown",
   "metadata": {},
   "source": [
    "In general, a p-value of less than 5% means you can reject the null hyptohesis that there is a unit root. In this case we want to ensure that there are no values that can lead to unpredictable results in the time series. The alternate hypothesis for this data is that the time series *IS* stationary (or trend stationary) \n",
    "\n"
   ]
  },
  {
   "cell_type": "code",
   "execution_count": 296,
   "metadata": {},
   "outputs": [],
   "source": [
    "result = adfuller(af['recovered'])\n",
    "result1 = adfuller(af['active'])"
   ]
  },
  {
   "cell_type": "code",
   "execution_count": 297,
   "metadata": {},
   "outputs": [
    {
     "name": "stdout",
     "output_type": "stream",
     "text": [
      "Africa Sample Recovered ADF Statistic: 1.6768258532462732\n",
      "Africa Sample Recovered p-value: 0.9980706956575527\n",
      "Africa Sample Recovered critical values: {'1%': -3.453261605529366, '5%': -2.87162848654246, '10%': -2.5721455328896603}\n"
     ]
    }
   ],
   "source": [
    "print('Africa Sample Recovered ADF Statistic:', result[0])\n",
    "\n",
    "print('Africa Sample Recovered p-value:', result[1])\n",
    "\n",
    "print('Africa Sample Recovered critical values:', result[4])"
   ]
  },
  {
   "cell_type": "code",
   "execution_count": 298,
   "metadata": {},
   "outputs": [
    {
     "name": "stdout",
     "output_type": "stream",
     "text": [
      "Africa Sample Active ADF Statistic: -1.8088546149339009\n",
      "Africa Sample Active p-value: 0.3760745689248099\n",
      "Africa Sample Active critical values: {'1%': -3.453261605529366, '5%': -2.87162848654246, '10%': -2.5721455328896603}\n"
     ]
    }
   ],
   "source": [
    "print('Africa Sample Active ADF Statistic:', result1[0])\n",
    "\n",
    "print('Africa Sample Active p-value:', result1[1])\n",
    "\n",
    "print('Africa Sample Active critical values:', result1[4])"
   ]
  },
  {
   "cell_type": "code",
   "execution_count": 7,
   "metadata": {},
   "outputs": [],
   "source": [
    "af_active = af.active.diff().diff().dropna()\n",
    "result2 = adfuller(af_active)"
   ]
  },
  {
   "cell_type": "code",
   "execution_count": 8,
   "metadata": {},
   "outputs": [
    {
     "name": "stdout",
     "output_type": "stream",
     "text": [
      "Africa Sample Active ADF Statistic: -16.48063029968488\n",
      "Africa Sample Active p-value: 2.238919394676565e-29\n",
      "Africa Sample Active critical values: {'1%': -3.452789844280995, '5%': -2.871421512222641, '10%': -2.5720351510944512}\n"
     ]
    }
   ],
   "source": [
    "print('Africa Sample Active ADF Statistic:', result2[0])\n",
    "\n",
    "print('Africa Sample Active p-value:', result2[1])\n",
    "\n",
    "print('Africa Sample Active critical values:', result2[4])"
   ]
  },
  {
   "cell_type": "code",
   "execution_count": 9,
   "metadata": {
    "scrolled": true
   },
   "outputs": [
    {
     "data": {
      "image/png": "[encoded data removed]",
      "text/plain": [
       "<Figure size 864x576 with 2 Axes>"
      ]
     },
     "metadata": {
      "needs_background": "light"
     },
     "output_type": "display_data"
    }
   ],
   "source": [
    "# creating grid for subplots\n",
    "fig = plt.figure()\n",
    "fig.set_figheight(8)\n",
    "fig.set_figwidth(12)\n",
    "\n",
    "ax1 = plt.subplot2grid(shape=(2, 1), loc=(0, 0))\n",
    "ax2 = plt.subplot2grid(shape=(2, 1), loc=(1, 0))\n",
    "\n",
    "# plotting subplots\n",
    "ax1.plot(af_df['recovered'])\n",
    "ax1.set_title('Africa Recovered MAR 2020 - DEC 2020')\n",
    "ax2.plot(af_active)\n",
    "ax2.set_title('Africa Active MAR 2020 - DEC 2020') \n",
    "\n",
    "# automatically adjust padding horizontally\n",
    "# as well as vertically.\n",
    "plt.tight_layout()\n",
    "\n",
    "# display plot\n",
    "plt.show()"
   ]
  },
  {
   "cell_type": "code",
   "execution_count": 10,
   "metadata": {},
   "outputs": [
    {
     "data": {
      "text/html": [
       "<div>\n",
       "<style scoped>\n",
       "    .dataframe tbody tr th:only-of-type {\n",
       "        vertical-align: middle;\n",
       "    }\n",
       "\n",
       "    .dataframe tbody tr th {\n",
       "        vertical-align: top;\n",
       "    }\n",
       "\n",
       "    .dataframe thead th {\n",
       "        text-align: right;\n",
       "    }\n",
       "</style>\n",
       "<table border=\"1\" class=\"dataframe\">\n",
       "  <thead>\n",
       "    <tr style=\"text-align: right;\">\n",
       "      <th></th>\n",
       "      <th>country</th>\n",
       "      <th>confirmed</th>\n",
       "      <th>deaths</th>\n",
       "      <th>recovered</th>\n",
       "      <th>active</th>\n",
       "      <th>log_converted_confirmed</th>\n",
       "      <th>log_converted_deaths</th>\n",
       "      <th>log_converted_recovered</th>\n",
       "      <th>log_converted_active</th>\n",
       "    </tr>\n",
       "    <tr>\n",
       "      <th>date</th>\n",
       "      <th></th>\n",
       "      <th></th>\n",
       "      <th></th>\n",
       "      <th></th>\n",
       "      <th></th>\n",
       "      <th></th>\n",
       "      <th></th>\n",
       "      <th></th>\n",
       "      <th></th>\n",
       "    </tr>\n",
       "  </thead>\n",
       "  <tbody>\n",
       "    <tr>\n",
       "      <th>2020-03-02</th>\n",
       "      <td>Indonesia</td>\n",
       "      <td>2</td>\n",
       "      <td>0.0</td>\n",
       "      <td>0.0</td>\n",
       "      <td>2.0</td>\n",
       "      <td>-1.651211</td>\n",
       "      <td>-1.216878</td>\n",
       "      <td>-0.287585</td>\n",
       "      <td>-0.078741</td>\n",
       "    </tr>\n",
       "    <tr>\n",
       "      <th>2020-03-02</th>\n",
       "      <td>Indonesia</td>\n",
       "      <td>2</td>\n",
       "      <td>0.0</td>\n",
       "      <td>0.0</td>\n",
       "      <td>2.0</td>\n",
       "      <td>-1.651211</td>\n",
       "      <td>-1.216878</td>\n",
       "      <td>-0.287585</td>\n",
       "      <td>-0.078741</td>\n",
       "    </tr>\n",
       "    <tr>\n",
       "      <th>2020-03-02</th>\n",
       "      <td>Indonesia</td>\n",
       "      <td>2</td>\n",
       "      <td>0.0</td>\n",
       "      <td>0.0</td>\n",
       "      <td>2.0</td>\n",
       "      <td>-1.651211</td>\n",
       "      <td>-1.216878</td>\n",
       "      <td>-0.287585</td>\n",
       "      <td>-0.078741</td>\n",
       "    </tr>\n",
       "    <tr>\n",
       "      <th>2020-03-02</th>\n",
       "      <td>Indonesia</td>\n",
       "      <td>2</td>\n",
       "      <td>0.0</td>\n",
       "      <td>0.0</td>\n",
       "      <td>2.0</td>\n",
       "      <td>-1.651211</td>\n",
       "      <td>-1.216878</td>\n",
       "      <td>-0.287585</td>\n",
       "      <td>-0.078741</td>\n",
       "    </tr>\n",
       "    <tr>\n",
       "      <th>2020-03-06</th>\n",
       "      <td>Indonesia</td>\n",
       "      <td>4</td>\n",
       "      <td>0.0</td>\n",
       "      <td>0.0</td>\n",
       "      <td>4.0</td>\n",
       "      <td>-1.455649</td>\n",
       "      <td>-1.216878</td>\n",
       "      <td>-0.287585</td>\n",
       "      <td>-0.078695</td>\n",
       "    </tr>\n",
       "  </tbody>\n",
       "</table>\n",
       "</div>"
      ],
      "text/plain": [
       "              country  confirmed  deaths  recovered  active  \\\n",
       "date                                                          \n",
       "2020-03-02  Indonesia          2     0.0        0.0     2.0   \n",
       "2020-03-02  Indonesia          2     0.0        0.0     2.0   \n",
       "2020-03-02  Indonesia          2     0.0        0.0     2.0   \n",
       "2020-03-02  Indonesia          2     0.0        0.0     2.0   \n",
       "2020-03-06  Indonesia          4     0.0        0.0     4.0   \n",
       "\n",
       "            log_converted_confirmed  log_converted_deaths  \\\n",
       "date                                                        \n",
       "2020-03-02                -1.651211             -1.216878   \n",
       "2020-03-02                -1.651211             -1.216878   \n",
       "2020-03-02                -1.651211             -1.216878   \n",
       "2020-03-02                -1.651211             -1.216878   \n",
       "2020-03-06                -1.455649             -1.216878   \n",
       "\n",
       "            log_converted_recovered  log_converted_active  \n",
       "date                                                       \n",
       "2020-03-02                -0.287585             -0.078741  \n",
       "2020-03-02                -0.287585             -0.078741  \n",
       "2020-03-02                -0.287585             -0.078741  \n",
       "2020-03-02                -0.287585             -0.078741  \n",
       "2020-03-06                -0.287585             -0.078695  "
      ]
     },
     "execution_count": 10,
     "metadata": {},
     "output_type": "execute_result"
    }
   ],
   "source": [
    "asia_df.head()"
   ]
  },
  {
   "cell_type": "code",
   "execution_count": 11,
   "metadata": {
    "scrolled": true
   },
   "outputs": [
    {
     "data": {
      "text/html": [
       "<div>\n",
       "<style scoped>\n",
       "    .dataframe tbody tr th:only-of-type {\n",
       "        vertical-align: middle;\n",
       "    }\n",
       "\n",
       "    .dataframe tbody tr th {\n",
       "        vertical-align: top;\n",
       "    }\n",
       "\n",
       "    .dataframe thead th {\n",
       "        text-align: right;\n",
       "    }\n",
       "</style>\n",
       "<table border=\"1\" class=\"dataframe\">\n",
       "  <thead>\n",
       "    <tr style=\"text-align: right;\">\n",
       "      <th></th>\n",
       "      <th>confirmed</th>\n",
       "      <th>deaths</th>\n",
       "      <th>recovered</th>\n",
       "      <th>active</th>\n",
       "    </tr>\n",
       "    <tr>\n",
       "      <th>date</th>\n",
       "      <th></th>\n",
       "      <th></th>\n",
       "      <th></th>\n",
       "      <th></th>\n",
       "    </tr>\n",
       "  </thead>\n",
       "  <tbody>\n",
       "    <tr>\n",
       "      <th>2020-01-22</th>\n",
       "      <td>547</td>\n",
       "      <td>17.0</td>\n",
       "      <td>28.0</td>\n",
       "      <td>502.0</td>\n",
       "    </tr>\n",
       "    <tr>\n",
       "      <th>2020-01-23</th>\n",
       "      <td>639</td>\n",
       "      <td>18.0</td>\n",
       "      <td>30.0</td>\n",
       "      <td>591.0</td>\n",
       "    </tr>\n",
       "    <tr>\n",
       "      <th>2020-01-24</th>\n",
       "      <td>916</td>\n",
       "      <td>26.0</td>\n",
       "      <td>36.0</td>\n",
       "      <td>854.0</td>\n",
       "    </tr>\n",
       "    <tr>\n",
       "      <th>2020-01-25</th>\n",
       "      <td>1399</td>\n",
       "      <td>42.0</td>\n",
       "      <td>39.0</td>\n",
       "      <td>1318.0</td>\n",
       "    </tr>\n",
       "    <tr>\n",
       "      <th>2020-01-26</th>\n",
       "      <td>2062</td>\n",
       "      <td>56.0</td>\n",
       "      <td>49.0</td>\n",
       "      <td>1957.0</td>\n",
       "    </tr>\n",
       "  </tbody>\n",
       "</table>\n",
       "</div>"
      ],
      "text/plain": [
       "            confirmed  deaths  recovered  active\n",
       "date                                            \n",
       "2020-01-22        547    17.0       28.0   502.0\n",
       "2020-01-23        639    18.0       30.0   591.0\n",
       "2020-01-24        916    26.0       36.0   854.0\n",
       "2020-01-25       1399    42.0       39.0  1318.0\n",
       "2020-01-26       2062    56.0       49.0  1957.0"
      ]
     },
     "execution_count": 11,
     "metadata": {},
     "output_type": "execute_result"
    }
   ],
   "source": [
    "asia_df = asia_df.groupby('date')[['confirmed', 'deaths', 'recovered', 'active']].sum()\n",
    "asia_df.head()"
   ]
  },
  {
   "cell_type": "code",
   "execution_count": 12,
   "metadata": {},
   "outputs": [],
   "source": [
    "asia_recovered = asia_df.recovered.diff().diff().dropna()\n",
    "result3 = adfuller(asia_recovered)"
   ]
  },
  {
   "cell_type": "code",
   "execution_count": 13,
   "metadata": {
    "scrolled": true
   },
   "outputs": [
    {
     "name": "stdout",
     "output_type": "stream",
     "text": [
      "Asia Sample Recovered ADF Statistic: -10.651944840586367\n",
      "Asia Sample Recovered p-value: 4.636979257024678e-19\n",
      "Asia Sample Recovered critical values: {'1%': -3.4502615951739393, '5%': -2.8703117734117742, '10%': -2.5714433728242714}\n"
     ]
    }
   ],
   "source": [
    "print('Asia Sample Recovered ADF Statistic:', result3[0])\n",
    "\n",
    "print('Asia Sample Recovered p-value:', result3[1])\n",
    "\n",
    "print('Asia Sample Recovered critical values:', result3[4])"
   ]
  },
  {
   "cell_type": "code",
   "execution_count": 14,
   "metadata": {},
   "outputs": [],
   "source": [
    "asia_active = asia_df.active.diff().dropna()\n",
    "result4 = adfuller(asia_active)"
   ]
  },
  {
   "cell_type": "code",
   "execution_count": 15,
   "metadata": {},
   "outputs": [
    {
     "name": "stdout",
     "output_type": "stream",
     "text": [
      "Asia Sample Active ADF Statistic: -14.754566223528828\n",
      "Asia Sample Active p-value: 2.4552874866634745e-27\n",
      "Asia Sample Active critical values: {'1%': -3.449846029628477, '5%': -2.870129281376164, '10%': -2.5713460670144603}\n"
     ]
    }
   ],
   "source": [
    "print('Asia Sample Active ADF Statistic:', result4[0])\n",
    "\n",
    "print('Asia Sample Active p-value:', result4[1])\n",
    "\n",
    "print('Asia Sample Active critical values:', result4[4])"
   ]
  },
  {
   "cell_type": "code",
   "execution_count": 16,
   "metadata": {},
   "outputs": [
    {
     "data": {
      "image/png": "[encoded data removed]",
      "text/plain": [
       "<Figure size 864x576 with 2 Axes>"
      ]
     },
     "metadata": {
      "needs_background": "light"
     },
     "output_type": "display_data"
    }
   ],
   "source": [
    "# creating grid for subplots\n",
    "fig = plt.figure()\n",
    "fig.set_figheight(8)\n",
    "fig.set_figwidth(12)\n",
    "\n",
    "ax1 = plt.subplot2grid(shape=(2, 1), loc=(0, 0))\n",
    "ax2 = plt.subplot2grid(shape=(2, 1), loc=(1, 0))\n",
    "\n",
    "# plotting subplots\n",
    "ax1.plot(asia_recovered)\n",
    "ax1.set_title('Asia Recovered MAR 2020 - DEC 2020')\n",
    "ax2.plot(asia_active)\n",
    "ax2.set_title('Asia Active MAR 2020 - DEC 2020') \n",
    "\n",
    "# automatically adjust padding horizontally\n",
    "# as well as vertically.\n",
    "plt.tight_layout()\n",
    "\n",
    "# display plot\n",
    "plt.show()"
   ]
  },
  {
   "cell_type": "code",
   "execution_count": 17,
   "metadata": {
    "scrolled": false
   },
   "outputs": [
    {
     "data": {
      "text/html": [
       "<div>\n",
       "<style scoped>\n",
       "    .dataframe tbody tr th:only-of-type {\n",
       "        vertical-align: middle;\n",
       "    }\n",
       "\n",
       "    .dataframe tbody tr th {\n",
       "        vertical-align: top;\n",
       "    }\n",
       "\n",
       "    .dataframe thead th {\n",
       "        text-align: right;\n",
       "    }\n",
       "</style>\n",
       "<table border=\"1\" class=\"dataframe\">\n",
       "  <thead>\n",
       "    <tr style=\"text-align: right;\">\n",
       "      <th></th>\n",
       "      <th>country</th>\n",
       "      <th>confirmed</th>\n",
       "      <th>deaths</th>\n",
       "      <th>recovered</th>\n",
       "      <th>active</th>\n",
       "      <th>log_converted_confirmed</th>\n",
       "      <th>log_converted_deaths</th>\n",
       "      <th>log_converted_recovered</th>\n",
       "      <th>log_converted_active</th>\n",
       "    </tr>\n",
       "    <tr>\n",
       "      <th>date</th>\n",
       "      <th></th>\n",
       "      <th></th>\n",
       "      <th></th>\n",
       "      <th></th>\n",
       "      <th></th>\n",
       "      <th></th>\n",
       "      <th></th>\n",
       "      <th></th>\n",
       "      <th></th>\n",
       "    </tr>\n",
       "  </thead>\n",
       "  <tbody>\n",
       "    <tr>\n",
       "      <th>2020-03-04</th>\n",
       "      <td>Poland</td>\n",
       "      <td>1</td>\n",
       "      <td>0.0</td>\n",
       "      <td>0.0</td>\n",
       "      <td>1.0</td>\n",
       "      <td>-1.806450</td>\n",
       "      <td>-1.216878</td>\n",
       "      <td>-0.287585</td>\n",
       "      <td>-0.078764</td>\n",
       "    </tr>\n",
       "    <tr>\n",
       "      <th>2020-03-04</th>\n",
       "      <td>Poland</td>\n",
       "      <td>1</td>\n",
       "      <td>0.0</td>\n",
       "      <td>0.0</td>\n",
       "      <td>1.0</td>\n",
       "      <td>-1.806450</td>\n",
       "      <td>-1.216878</td>\n",
       "      <td>-0.287585</td>\n",
       "      <td>-0.078764</td>\n",
       "    </tr>\n",
       "    <tr>\n",
       "      <th>2020-03-06</th>\n",
       "      <td>Poland</td>\n",
       "      <td>5</td>\n",
       "      <td>0.0</td>\n",
       "      <td>0.0</td>\n",
       "      <td>5.0</td>\n",
       "      <td>-1.385854</td>\n",
       "      <td>-1.216878</td>\n",
       "      <td>-0.287585</td>\n",
       "      <td>-0.078672</td>\n",
       "    </tr>\n",
       "    <tr>\n",
       "      <th>2020-03-06</th>\n",
       "      <td>Poland</td>\n",
       "      <td>5</td>\n",
       "      <td>0.0</td>\n",
       "      <td>0.0</td>\n",
       "      <td>5.0</td>\n",
       "      <td>-1.385854</td>\n",
       "      <td>-1.216878</td>\n",
       "      <td>-0.287585</td>\n",
       "      <td>-0.078672</td>\n",
       "    </tr>\n",
       "    <tr>\n",
       "      <th>2020-03-08</th>\n",
       "      <td>Poland</td>\n",
       "      <td>11</td>\n",
       "      <td>0.0</td>\n",
       "      <td>0.0</td>\n",
       "      <td>11.0</td>\n",
       "      <td>-1.120526</td>\n",
       "      <td>-1.216878</td>\n",
       "      <td>-0.287585</td>\n",
       "      <td>-0.078530</td>\n",
       "    </tr>\n",
       "  </tbody>\n",
       "</table>\n",
       "</div>"
      ],
      "text/plain": [
       "           country  confirmed  deaths  recovered  active  \\\n",
       "date                                                       \n",
       "2020-03-04  Poland          1     0.0        0.0     1.0   \n",
       "2020-03-04  Poland          1     0.0        0.0     1.0   \n",
       "2020-03-06  Poland          5     0.0        0.0     5.0   \n",
       "2020-03-06  Poland          5     0.0        0.0     5.0   \n",
       "2020-03-08  Poland         11     0.0        0.0    11.0   \n",
       "\n",
       "            log_converted_confirmed  log_converted_deaths  \\\n",
       "date                                                        \n",
       "2020-03-04                -1.806450             -1.216878   \n",
       "2020-03-04                -1.806450             -1.216878   \n",
       "2020-03-06                -1.385854             -1.216878   \n",
       "2020-03-06                -1.385854             -1.216878   \n",
       "2020-03-08                -1.120526             -1.216878   \n",
       "\n",
       "            log_converted_recovered  log_converted_active  \n",
       "date                                                       \n",
       "2020-03-04                -0.287585             -0.078764  \n",
       "2020-03-04                -0.287585             -0.078764  \n",
       "2020-03-06                -0.287585             -0.078672  \n",
       "2020-03-06                -0.287585             -0.078672  \n",
       "2020-03-08                -0.287585             -0.078530  "
      ]
     },
     "execution_count": 17,
     "metadata": {},
     "output_type": "execute_result"
    }
   ],
   "source": [
    "eu_df.head()"
   ]
  },
  {
   "cell_type": "code",
   "execution_count": 18,
   "metadata": {
    "scrolled": true
   },
   "outputs": [
    {
     "data": {
      "text/html": [
       "<div>\n",
       "<style scoped>\n",
       "    .dataframe tbody tr th:only-of-type {\n",
       "        vertical-align: middle;\n",
       "    }\n",
       "\n",
       "    .dataframe tbody tr th {\n",
       "        vertical-align: top;\n",
       "    }\n",
       "\n",
       "    .dataframe thead th {\n",
       "        text-align: right;\n",
       "    }\n",
       "</style>\n",
       "<table border=\"1\" class=\"dataframe\">\n",
       "  <thead>\n",
       "    <tr style=\"text-align: right;\">\n",
       "      <th></th>\n",
       "      <th>confirmed</th>\n",
       "      <th>deaths</th>\n",
       "      <th>recovered</th>\n",
       "      <th>active</th>\n",
       "    </tr>\n",
       "    <tr>\n",
       "      <th>date</th>\n",
       "      <th></th>\n",
       "      <th></th>\n",
       "      <th></th>\n",
       "      <th></th>\n",
       "    </tr>\n",
       "  </thead>\n",
       "  <tbody>\n",
       "    <tr>\n",
       "      <th>2020-01-24</th>\n",
       "      <td>2</td>\n",
       "      <td>0.0</td>\n",
       "      <td>0.0</td>\n",
       "      <td>2.0</td>\n",
       "    </tr>\n",
       "    <tr>\n",
       "      <th>2020-01-25</th>\n",
       "      <td>3</td>\n",
       "      <td>0.0</td>\n",
       "      <td>0.0</td>\n",
       "      <td>3.0</td>\n",
       "    </tr>\n",
       "    <tr>\n",
       "      <th>2020-01-26</th>\n",
       "      <td>3</td>\n",
       "      <td>0.0</td>\n",
       "      <td>0.0</td>\n",
       "      <td>3.0</td>\n",
       "    </tr>\n",
       "    <tr>\n",
       "      <th>2020-01-27</th>\n",
       "      <td>3</td>\n",
       "      <td>0.0</td>\n",
       "      <td>0.0</td>\n",
       "      <td>3.0</td>\n",
       "    </tr>\n",
       "    <tr>\n",
       "      <th>2020-01-28</th>\n",
       "      <td>8</td>\n",
       "      <td>0.0</td>\n",
       "      <td>0.0</td>\n",
       "      <td>8.0</td>\n",
       "    </tr>\n",
       "  </tbody>\n",
       "</table>\n",
       "</div>"
      ],
      "text/plain": [
       "            confirmed  deaths  recovered  active\n",
       "date                                            \n",
       "2020-01-24          2     0.0        0.0     2.0\n",
       "2020-01-25          3     0.0        0.0     3.0\n",
       "2020-01-26          3     0.0        0.0     3.0\n",
       "2020-01-27          3     0.0        0.0     3.0\n",
       "2020-01-28          8     0.0        0.0     8.0"
      ]
     },
     "execution_count": 18,
     "metadata": {},
     "output_type": "execute_result"
    }
   ],
   "source": [
    "eu_df = eu_df.groupby('date')[['confirmed', 'deaths', 'recovered', 'active']].sum()\n",
    "eu_df.head()"
   ]
  },
  {
   "cell_type": "code",
   "execution_count": 19,
   "metadata": {},
   "outputs": [],
   "source": [
    "eu_recovered = eu_df.recovered.diff().dropna()\n",
    "result5 = adfuller(eu_recovered)"
   ]
  },
  {
   "cell_type": "code",
   "execution_count": 20,
   "metadata": {},
   "outputs": [
    {
     "name": "stdout",
     "output_type": "stream",
     "text": [
      "Europe Sample Recovered ADF Statistic: -2.793160181984956\n",
      "Europe Sample Recovered p-value: 0.05925744913113202\n",
      "Europe Sample Recovered critical values: {'1%': -3.451281394993741, '5%': -2.8707595072926293, '10%': -2.571682118921643}\n"
     ]
    }
   ],
   "source": [
    "print('Europe Sample Recovered ADF Statistic:', result5[0])\n",
    "\n",
    "print('Europe Sample Recovered p-value:', result5[1])\n",
    "\n",
    "print('Europe Sample Recovered critical values:', result5[4])"
   ]
  },
  {
   "cell_type": "code",
   "execution_count": 21,
   "metadata": {},
   "outputs": [],
   "source": [
    "eu_active = eu_df.active.diff().diff().dropna()\n",
    "result6 = adfuller(eu_active)"
   ]
  },
  {
   "cell_type": "code",
   "execution_count": 22,
   "metadata": {},
   "outputs": [
    {
     "name": "stdout",
     "output_type": "stream",
     "text": [
      "Europe Sample Active ADF Statistic: -2.9772212869975134\n",
      "Europe Sample Active p-value: 0.0370771001565686\n",
      "Europe Sample Active critical values: {'1%': -3.451148243362826, '5%': -2.8707010565250752, '10%': -2.571650950153748}\n"
     ]
    }
   ],
   "source": [
    "print('Europe Sample Active ADF Statistic:', result6[0])\n",
    "\n",
    "print('Europe Sample Active p-value:', result6[1])\n",
    "\n",
    "print('Europe Sample Active critical values:', result6[4])"
   ]
  },
  {
   "cell_type": "code",
   "execution_count": 23,
   "metadata": {},
   "outputs": [
    {
     "data": {
      "image/png": "[encoded data removed]",
      "text/plain": [
       "<Figure size 864x576 with 2 Axes>"
      ]
     },
     "metadata": {
      "needs_background": "light"
     },
     "output_type": "display_data"
    }
   ],
   "source": [
    "# creating grid for subplots\n",
    "fig = plt.figure()\n",
    "fig.set_figheight(8)\n",
    "fig.set_figwidth(12)\n",
    "\n",
    "ax1 = plt.subplot2grid(shape=(2, 1), loc=(0, 0))\n",
    "ax2 = plt.subplot2grid(shape=(2, 1), loc=(1, 0))\n",
    "\n",
    "# plotting subplots\n",
    "ax1.plot(eu_recovered)\n",
    "ax1.set_title('Europe Recovered MAR 2020 - DEC 2020')\n",
    "ax2.plot(eu_active)\n",
    "ax2.set_title('Europe Active MAR 2020 - DEC 2020') \n",
    "\n",
    "# automatically adjust padding horizontally\n",
    "# as well as vertically.\n",
    "plt.tight_layout()\n",
    "\n",
    "# display plot\n",
    "plt.show()"
   ]
  },
  {
   "cell_type": "code",
   "execution_count": 24,
   "metadata": {},
   "outputs": [
    {
     "data": {
      "text/html": [
       "<div>\n",
       "<style scoped>\n",
       "    .dataframe tbody tr th:only-of-type {\n",
       "        vertical-align: middle;\n",
       "    }\n",
       "\n",
       "    .dataframe tbody tr th {\n",
       "        vertical-align: top;\n",
       "    }\n",
       "\n",
       "    .dataframe thead th {\n",
       "        text-align: right;\n",
       "    }\n",
       "</style>\n",
       "<table border=\"1\" class=\"dataframe\">\n",
       "  <thead>\n",
       "    <tr style=\"text-align: right;\">\n",
       "      <th></th>\n",
       "      <th>country</th>\n",
       "      <th>confirmed</th>\n",
       "      <th>deaths</th>\n",
       "      <th>recovered</th>\n",
       "      <th>active</th>\n",
       "      <th>log_converted_confirmed</th>\n",
       "      <th>log_converted_deaths</th>\n",
       "      <th>log_converted_recovered</th>\n",
       "      <th>log_converted_active</th>\n",
       "    </tr>\n",
       "    <tr>\n",
       "      <th>date</th>\n",
       "      <th></th>\n",
       "      <th></th>\n",
       "      <th></th>\n",
       "      <th></th>\n",
       "      <th></th>\n",
       "      <th></th>\n",
       "      <th></th>\n",
       "      <th></th>\n",
       "      <th></th>\n",
       "    </tr>\n",
       "  </thead>\n",
       "  <tbody>\n",
       "    <tr>\n",
       "      <th>2020-01-22</th>\n",
       "      <td>United States</td>\n",
       "      <td>1</td>\n",
       "      <td>0.0</td>\n",
       "      <td>0.0</td>\n",
       "      <td>1.0</td>\n",
       "      <td>-1.80645</td>\n",
       "      <td>-1.216878</td>\n",
       "      <td>-0.287585</td>\n",
       "      <td>-0.078764</td>\n",
       "    </tr>\n",
       "    <tr>\n",
       "      <th>2020-01-23</th>\n",
       "      <td>United States</td>\n",
       "      <td>1</td>\n",
       "      <td>0.0</td>\n",
       "      <td>0.0</td>\n",
       "      <td>1.0</td>\n",
       "      <td>-1.80645</td>\n",
       "      <td>-1.216878</td>\n",
       "      <td>-0.287585</td>\n",
       "      <td>-0.078764</td>\n",
       "    </tr>\n",
       "    <tr>\n",
       "      <th>2020-01-24</th>\n",
       "      <td>United States</td>\n",
       "      <td>1</td>\n",
       "      <td>0.0</td>\n",
       "      <td>0.0</td>\n",
       "      <td>1.0</td>\n",
       "      <td>-1.80645</td>\n",
       "      <td>-1.216878</td>\n",
       "      <td>-0.287585</td>\n",
       "      <td>-0.078764</td>\n",
       "    </tr>\n",
       "    <tr>\n",
       "      <th>2020-01-24</th>\n",
       "      <td>United States</td>\n",
       "      <td>1</td>\n",
       "      <td>0.0</td>\n",
       "      <td>0.0</td>\n",
       "      <td>1.0</td>\n",
       "      <td>-1.80645</td>\n",
       "      <td>-1.216878</td>\n",
       "      <td>-0.287585</td>\n",
       "      <td>-0.078764</td>\n",
       "    </tr>\n",
       "    <tr>\n",
       "      <th>2020-01-25</th>\n",
       "      <td>United States</td>\n",
       "      <td>1</td>\n",
       "      <td>0.0</td>\n",
       "      <td>0.0</td>\n",
       "      <td>1.0</td>\n",
       "      <td>-1.80645</td>\n",
       "      <td>-1.216878</td>\n",
       "      <td>-0.287585</td>\n",
       "      <td>-0.078764</td>\n",
       "    </tr>\n",
       "  </tbody>\n",
       "</table>\n",
       "</div>"
      ],
      "text/plain": [
       "                  country  confirmed  deaths  recovered  active  \\\n",
       "date                                                              \n",
       "2020-01-22  United States          1     0.0        0.0     1.0   \n",
       "2020-01-23  United States          1     0.0        0.0     1.0   \n",
       "2020-01-24  United States          1     0.0        0.0     1.0   \n",
       "2020-01-24  United States          1     0.0        0.0     1.0   \n",
       "2020-01-25  United States          1     0.0        0.0     1.0   \n",
       "\n",
       "            log_converted_confirmed  log_converted_deaths  \\\n",
       "date                                                        \n",
       "2020-01-22                 -1.80645             -1.216878   \n",
       "2020-01-23                 -1.80645             -1.216878   \n",
       "2020-01-24                 -1.80645             -1.216878   \n",
       "2020-01-24                 -1.80645             -1.216878   \n",
       "2020-01-25                 -1.80645             -1.216878   \n",
       "\n",
       "            log_converted_recovered  log_converted_active  \n",
       "date                                                       \n",
       "2020-01-22                -0.287585             -0.078764  \n",
       "2020-01-23                -0.287585             -0.078764  \n",
       "2020-01-24                -0.287585             -0.078764  \n",
       "2020-01-24                -0.287585             -0.078764  \n",
       "2020-01-25                -0.287585             -0.078764  "
      ]
     },
     "execution_count": 24,
     "metadata": {},
     "output_type": "execute_result"
    }
   ],
   "source": [
    "noam_df.head()"
   ]
  },
  {
   "cell_type": "code",
   "execution_count": 25,
   "metadata": {},
   "outputs": [
    {
     "data": {
      "text/html": [
       "<div>\n",
       "<style scoped>\n",
       "    .dataframe tbody tr th:only-of-type {\n",
       "        vertical-align: middle;\n",
       "    }\n",
       "\n",
       "    .dataframe tbody tr th {\n",
       "        vertical-align: top;\n",
       "    }\n",
       "\n",
       "    .dataframe thead th {\n",
       "        text-align: right;\n",
       "    }\n",
       "</style>\n",
       "<table border=\"1\" class=\"dataframe\">\n",
       "  <thead>\n",
       "    <tr style=\"text-align: right;\">\n",
       "      <th></th>\n",
       "      <th>confirmed</th>\n",
       "      <th>deaths</th>\n",
       "      <th>recovered</th>\n",
       "      <th>active</th>\n",
       "    </tr>\n",
       "    <tr>\n",
       "      <th>date</th>\n",
       "      <th></th>\n",
       "      <th></th>\n",
       "      <th></th>\n",
       "      <th></th>\n",
       "    </tr>\n",
       "  </thead>\n",
       "  <tbody>\n",
       "    <tr>\n",
       "      <th>2020-01-22</th>\n",
       "      <td>1</td>\n",
       "      <td>0.0</td>\n",
       "      <td>0.0</td>\n",
       "      <td>1.0</td>\n",
       "    </tr>\n",
       "    <tr>\n",
       "      <th>2020-01-23</th>\n",
       "      <td>1</td>\n",
       "      <td>0.0</td>\n",
       "      <td>0.0</td>\n",
       "      <td>1.0</td>\n",
       "    </tr>\n",
       "    <tr>\n",
       "      <th>2020-01-24</th>\n",
       "      <td>2</td>\n",
       "      <td>0.0</td>\n",
       "      <td>0.0</td>\n",
       "      <td>2.0</td>\n",
       "    </tr>\n",
       "    <tr>\n",
       "      <th>2020-01-25</th>\n",
       "      <td>2</td>\n",
       "      <td>0.0</td>\n",
       "      <td>0.0</td>\n",
       "      <td>2.0</td>\n",
       "    </tr>\n",
       "    <tr>\n",
       "      <th>2020-01-26</th>\n",
       "      <td>6</td>\n",
       "      <td>0.0</td>\n",
       "      <td>0.0</td>\n",
       "      <td>6.0</td>\n",
       "    </tr>\n",
       "  </tbody>\n",
       "</table>\n",
       "</div>"
      ],
      "text/plain": [
       "            confirmed  deaths  recovered  active\n",
       "date                                            \n",
       "2020-01-22          1     0.0        0.0     1.0\n",
       "2020-01-23          1     0.0        0.0     1.0\n",
       "2020-01-24          2     0.0        0.0     2.0\n",
       "2020-01-25          2     0.0        0.0     2.0\n",
       "2020-01-26          6     0.0        0.0     6.0"
      ]
     },
     "execution_count": 25,
     "metadata": {},
     "output_type": "execute_result"
    }
   ],
   "source": [
    "noam_df = noam_df.groupby('date')[['confirmed', 'deaths', 'recovered', 'active']].sum()\n",
    "noam_df.head()"
   ]
  },
  {
   "cell_type": "code",
   "execution_count": 26,
   "metadata": {},
   "outputs": [],
   "source": [
    "noam_recovered = noam_df.recovered.diff().dropna()\n",
    "result7 = adfuller(noam_recovered)"
   ]
  },
  {
   "cell_type": "code",
   "execution_count": 27,
   "metadata": {},
   "outputs": [
    {
     "name": "stdout",
     "output_type": "stream",
     "text": [
      "North America Sample Recovered ADF Statistic: -18.29623567713031\n",
      "North America Sample Recovered p-value: 2.2916969701462638e-30\n",
      "North America Sample Recovered critical values: {'1%': -3.4503836022181056, '5%': -2.8703653471616826, '10%': -2.571471939191249}\n"
     ]
    }
   ],
   "source": [
    "print('North America Sample Recovered ADF Statistic:', result7[0])\n",
    "\n",
    "print('North America Sample Recovered p-value:', result7[1])\n",
    "\n",
    "print('North America Sample Recovered critical values:', result7[4])"
   ]
  },
  {
   "cell_type": "code",
   "execution_count": 28,
   "metadata": {},
   "outputs": [],
   "source": [
    "noam_active = noam_df.active.diff().dropna()\n",
    "result8 = adfuller(noam_active)"
   ]
  },
  {
   "cell_type": "code",
   "execution_count": 29,
   "metadata": {},
   "outputs": [
    {
     "name": "stdout",
     "output_type": "stream",
     "text": [
      "North America Sample Active ADF Statistic: -17.035734421638047\n",
      "North America Sample Active p-value: 8.2640393165322e-30\n",
      "North America Sample Active critical values: {'1%': -3.4503836022181056, '5%': -2.8703653471616826, '10%': -2.571471939191249}\n"
     ]
    }
   ],
   "source": [
    "print('North America Sample Active ADF Statistic:', result8[0])\n",
    "\n",
    "print('North America Sample Active p-value:', result8[1])\n",
    "\n",
    "print('North America Sample Active critical values:', result8[4])"
   ]
  },
  {
   "cell_type": "code",
   "execution_count": 30,
   "metadata": {},
   "outputs": [
    {
     "data": {
      "image/png": "[encoded data removed]",
      "text/plain": [
       "<Figure size 864x576 with 2 Axes>"
      ]
     },
     "metadata": {
      "needs_background": "light"
     },
     "output_type": "display_data"
    }
   ],
   "source": [
    "# creating grid for subplots\n",
    "fig = plt.figure()\n",
    "fig.set_figheight(8)\n",
    "fig.set_figwidth(12)\n",
    "\n",
    "ax1 = plt.subplot2grid(shape=(2, 1), loc=(0, 0))\n",
    "ax2 = plt.subplot2grid(shape=(2, 1), loc=(1, 0))\n",
    "\n",
    "# plotting subplots\n",
    "ax1.plot(noam_recovered)\n",
    "ax1.set_title('North America Recovered MAR 2020 - DEC 2020')\n",
    "ax2.plot(noam_active)\n",
    "ax2.set_title('North America Active MAR 2020 - DEC 2020') \n",
    "\n",
    "# automatically adjust padding horizontally\n",
    "# as well as vertically.\n",
    "plt.tight_layout()\n",
    "\n",
    "# display plot\n",
    "plt.show()"
   ]
  },
  {
   "cell_type": "code",
   "execution_count": 31,
   "metadata": {},
   "outputs": [
    {
     "data": {
      "text/html": [
       "<div>\n",
       "<style scoped>\n",
       "    .dataframe tbody tr th:only-of-type {\n",
       "        vertical-align: middle;\n",
       "    }\n",
       "\n",
       "    .dataframe tbody tr th {\n",
       "        vertical-align: top;\n",
       "    }\n",
       "\n",
       "    .dataframe thead th {\n",
       "        text-align: right;\n",
       "    }\n",
       "</style>\n",
       "<table border=\"1\" class=\"dataframe\">\n",
       "  <thead>\n",
       "    <tr style=\"text-align: right;\">\n",
       "      <th></th>\n",
       "      <th>country</th>\n",
       "      <th>confirmed</th>\n",
       "      <th>deaths</th>\n",
       "      <th>recovered</th>\n",
       "      <th>active</th>\n",
       "      <th>log_converted_confirmed</th>\n",
       "      <th>log_converted_deaths</th>\n",
       "      <th>log_converted_recovered</th>\n",
       "      <th>log_converted_active</th>\n",
       "    </tr>\n",
       "    <tr>\n",
       "      <th>date</th>\n",
       "      <th></th>\n",
       "      <th></th>\n",
       "      <th></th>\n",
       "      <th></th>\n",
       "      <th></th>\n",
       "      <th></th>\n",
       "      <th></th>\n",
       "      <th></th>\n",
       "      <th></th>\n",
       "    </tr>\n",
       "  </thead>\n",
       "  <tbody>\n",
       "    <tr>\n",
       "      <th>2020-03-03</th>\n",
       "      <td>Chile</td>\n",
       "      <td>1</td>\n",
       "      <td>0.0</td>\n",
       "      <td>0.0</td>\n",
       "      <td>1.0</td>\n",
       "      <td>-1.806450</td>\n",
       "      <td>-1.216878</td>\n",
       "      <td>-0.287585</td>\n",
       "      <td>-0.078764</td>\n",
       "    </tr>\n",
       "    <tr>\n",
       "      <th>2020-03-04</th>\n",
       "      <td>Chile</td>\n",
       "      <td>1</td>\n",
       "      <td>0.0</td>\n",
       "      <td>0.0</td>\n",
       "      <td>1.0</td>\n",
       "      <td>-1.806450</td>\n",
       "      <td>-1.216878</td>\n",
       "      <td>-0.287585</td>\n",
       "      <td>-0.078764</td>\n",
       "    </tr>\n",
       "    <tr>\n",
       "      <th>2020-03-05</th>\n",
       "      <td>Chile</td>\n",
       "      <td>4</td>\n",
       "      <td>0.0</td>\n",
       "      <td>0.0</td>\n",
       "      <td>4.0</td>\n",
       "      <td>-1.455649</td>\n",
       "      <td>-1.216878</td>\n",
       "      <td>-0.287585</td>\n",
       "      <td>-0.078695</td>\n",
       "    </tr>\n",
       "    <tr>\n",
       "      <th>2020-03-05</th>\n",
       "      <td>Chile</td>\n",
       "      <td>4</td>\n",
       "      <td>0.0</td>\n",
       "      <td>0.0</td>\n",
       "      <td>4.0</td>\n",
       "      <td>-1.455649</td>\n",
       "      <td>-1.216878</td>\n",
       "      <td>-0.287585</td>\n",
       "      <td>-0.078695</td>\n",
       "    </tr>\n",
       "    <tr>\n",
       "      <th>2020-03-05</th>\n",
       "      <td>Chile</td>\n",
       "      <td>4</td>\n",
       "      <td>0.0</td>\n",
       "      <td>0.0</td>\n",
       "      <td>4.0</td>\n",
       "      <td>-1.455649</td>\n",
       "      <td>-1.216878</td>\n",
       "      <td>-0.287585</td>\n",
       "      <td>-0.078695</td>\n",
       "    </tr>\n",
       "  </tbody>\n",
       "</table>\n",
       "</div>"
      ],
      "text/plain": [
       "           country  confirmed  deaths  recovered  active  \\\n",
       "date                                                       \n",
       "2020-03-03   Chile          1     0.0        0.0     1.0   \n",
       "2020-03-04   Chile          1     0.0        0.0     1.0   \n",
       "2020-03-05   Chile          4     0.0        0.0     4.0   \n",
       "2020-03-05   Chile          4     0.0        0.0     4.0   \n",
       "2020-03-05   Chile          4     0.0        0.0     4.0   \n",
       "\n",
       "            log_converted_confirmed  log_converted_deaths  \\\n",
       "date                                                        \n",
       "2020-03-03                -1.806450             -1.216878   \n",
       "2020-03-04                -1.806450             -1.216878   \n",
       "2020-03-05                -1.455649             -1.216878   \n",
       "2020-03-05                -1.455649             -1.216878   \n",
       "2020-03-05                -1.455649             -1.216878   \n",
       "\n",
       "            log_converted_recovered  log_converted_active  \n",
       "date                                                       \n",
       "2020-03-03                -0.287585             -0.078764  \n",
       "2020-03-04                -0.287585             -0.078764  \n",
       "2020-03-05                -0.287585             -0.078695  \n",
       "2020-03-05                -0.287585             -0.078695  \n",
       "2020-03-05                -0.287585             -0.078695  "
      ]
     },
     "execution_count": 31,
     "metadata": {},
     "output_type": "execute_result"
    }
   ],
   "source": [
    "soam_df.head()"
   ]
  },
  {
   "cell_type": "code",
   "execution_count": 32,
   "metadata": {},
   "outputs": [
    {
     "data": {
      "text/html": [
       "<div>\n",
       "<style scoped>\n",
       "    .dataframe tbody tr th:only-of-type {\n",
       "        vertical-align: middle;\n",
       "    }\n",
       "\n",
       "    .dataframe tbody tr th {\n",
       "        vertical-align: top;\n",
       "    }\n",
       "\n",
       "    .dataframe thead th {\n",
       "        text-align: right;\n",
       "    }\n",
       "</style>\n",
       "<table border=\"1\" class=\"dataframe\">\n",
       "  <thead>\n",
       "    <tr style=\"text-align: right;\">\n",
       "      <th></th>\n",
       "      <th>confirmed</th>\n",
       "      <th>deaths</th>\n",
       "      <th>recovered</th>\n",
       "      <th>active</th>\n",
       "    </tr>\n",
       "    <tr>\n",
       "      <th>date</th>\n",
       "      <th></th>\n",
       "      <th></th>\n",
       "      <th></th>\n",
       "      <th></th>\n",
       "    </tr>\n",
       "  </thead>\n",
       "  <tbody>\n",
       "    <tr>\n",
       "      <th>2020-01-23</th>\n",
       "      <td>0</td>\n",
       "      <td>0.0</td>\n",
       "      <td>0.0</td>\n",
       "      <td>0.0</td>\n",
       "    </tr>\n",
       "    <tr>\n",
       "      <th>2020-02-26</th>\n",
       "      <td>3</td>\n",
       "      <td>0.0</td>\n",
       "      <td>0.0</td>\n",
       "      <td>3.0</td>\n",
       "    </tr>\n",
       "    <tr>\n",
       "      <th>2020-02-29</th>\n",
       "      <td>8</td>\n",
       "      <td>0.0</td>\n",
       "      <td>0.0</td>\n",
       "      <td>8.0</td>\n",
       "    </tr>\n",
       "    <tr>\n",
       "      <th>2020-03-03</th>\n",
       "      <td>1</td>\n",
       "      <td>0.0</td>\n",
       "      <td>0.0</td>\n",
       "      <td>1.0</td>\n",
       "    </tr>\n",
       "    <tr>\n",
       "      <th>2020-03-04</th>\n",
       "      <td>9</td>\n",
       "      <td>0.0</td>\n",
       "      <td>0.0</td>\n",
       "      <td>9.0</td>\n",
       "    </tr>\n",
       "  </tbody>\n",
       "</table>\n",
       "</div>"
      ],
      "text/plain": [
       "            confirmed  deaths  recovered  active\n",
       "date                                            \n",
       "2020-01-23          0     0.0        0.0     0.0\n",
       "2020-02-26          3     0.0        0.0     3.0\n",
       "2020-02-29          8     0.0        0.0     8.0\n",
       "2020-03-03          1     0.0        0.0     1.0\n",
       "2020-03-04          9     0.0        0.0     9.0"
      ]
     },
     "execution_count": 32,
     "metadata": {},
     "output_type": "execute_result"
    }
   ],
   "source": [
    "soam_df = soam_df.groupby('date')[['confirmed', 'deaths', 'recovered', 'active']].sum()\n",
    "soam_df.head()"
   ]
  },
  {
   "cell_type": "code",
   "execution_count": 33,
   "metadata": {},
   "outputs": [],
   "source": [
    "soam_recovered = soam_df.recovered.diff().dropna()\n",
    "result8 = adfuller(soam_recovered)"
   ]
  },
  {
   "cell_type": "code",
   "execution_count": 34,
   "metadata": {},
   "outputs": [
    {
     "name": "stdout",
     "output_type": "stream",
     "text": [
      "South America Sample Recovered ADF Statistic: -3.838718211793858\n",
      "South America Sample Recovered p-value: 0.0025351122846229306\n",
      "South America Sample Recovered critical values: {'1%': -3.452713099849546, '5%': -2.871387839457783, '10%': -2.5720171933352485}\n"
     ]
    }
   ],
   "source": [
    "print('South America Sample Recovered ADF Statistic:', result8[0])\n",
    "\n",
    "print('South America Sample Recovered p-value:', result8[1])\n",
    "\n",
    "print('South America Sample Recovered critical values:', result8[4])"
   ]
  },
  {
   "cell_type": "code",
   "execution_count": 35,
   "metadata": {},
   "outputs": [],
   "source": [
    "soam_active = soam_df.active.diff().dropna()\n",
    "result9 = adfuller(soam_active)"
   ]
  },
  {
   "cell_type": "code",
   "execution_count": 36,
   "metadata": {},
   "outputs": [
    {
     "name": "stdout",
     "output_type": "stream",
     "text": [
      "South America Sample Recovered ADF Statistic: -20.463129611510023\n",
      "South America Sample Recovered p-value: 0.0\n",
      "South America Sample Recovered critical values: {'1%': -3.452263435801039, '5%': -2.871190526189069, '10%': -2.571911967527952}\n"
     ]
    }
   ],
   "source": [
    "print('South America Sample Recovered ADF Statistic:', result9[0])\n",
    "\n",
    "print('South America Sample Recovered p-value:', result9[1])\n",
    "\n",
    "print('South America Sample Recovered critical values:', result9[4])"
   ]
  },
  {
   "cell_type": "code",
   "execution_count": 37,
   "metadata": {},
   "outputs": [
    {
     "data": {
      "image/png": "[encoded data removed]",
      "text/plain": [
       "<Figure size 864x576 with 2 Axes>"
      ]
     },
     "metadata": {
      "needs_background": "light"
     },
     "output_type": "display_data"
    }
   ],
   "source": [
    "# creating grid for subplots\n",
    "fig = plt.figure()\n",
    "fig.set_figheight(8)\n",
    "fig.set_figwidth(12)\n",
    "\n",
    "ax1 = plt.subplot2grid(shape=(2, 1), loc=(0, 0))\n",
    "ax2 = plt.subplot2grid(shape=(2, 1), loc=(1, 0))\n",
    "\n",
    "# plotting subplots\n",
    "ax1.plot(soam_recovered)\n",
    "ax1.set_title('South America Recovered MAR 2020 - DEC 2020')\n",
    "ax2.plot(soam_active)\n",
    "ax2.set_title('South America Active MAR 2020 - DEC 2020') \n",
    "\n",
    "# automatically adjust padding horizontally\n",
    "# as well as vertically.\n",
    "plt.tight_layout()\n",
    "\n",
    "# display plot\n",
    "plt.show()"
   ]
  },
  {
   "cell_type": "markdown",
   "metadata": {},
   "source": [
    "After graphing the difference for a stationary model determining ARMA, AR or MA \n",
    "\n",
    "ACF and PACF cannot be used to choose the order of a model when both the orders q and p are non-zero. Instead there are other models the AIC and BIC.\n",
    "\n",
    "    a. The model with the lower AIC Score makes better predictions \n",
    "    \n",
    "\n",
    "If you recieve a value error this is a bad model for the data. "
   ]
  },
  {
   "cell_type": "markdown",
   "metadata": {},
   "source": [
    "\n",
    "The Dickey Fuller adds lagged differences to these models\n",
    "\n",
    "You must choose a lag length to run the test. The lag length should be chosen so that the residuals aren't serially correlated. To choose the lags: minimize Akaike's information criterion will be used. \n",
    "\n",
    "The AIC deals with both the risk of overfitting and the risk of underfitting. \n",
    "\n",
    "A p-values of less than 5% means you can reject the null hypothesis that there is a unit root. You can also compare the calculated DF_t statistic with a tabulated critical value. The more negative the DF test statistic , the stronger the evidence for rejecting the null hypothesis of a unit root \n",
    "\n",
    "The DF test statistic: (2)"
   ]
  },
  {
   "cell_type": "markdown",
   "metadata": {},
   "source": [
    "Mathematical Description of AR(1) Model \n",
    "R_t = mu + phi(R_t-1) + epselon_t\n",
    "\n",
    "Since there is only one lagged value on the right hand side, \n",
    "this is called an AR model of order 1, or simply an AR(1) model. Or simply \n",
    "An AR(1) model  \n",
    "*AR parameter is phi\n",
    "    If phi is 1 then the process is a random walk \n",
    "    If phi is 0, then the process is white noise\n",
    "\n",
    "In order for the process to be stable and stationary, phi has to be between \n",
    "-1 and +1."
   ]
  },
  {
   "cell_type": "code",
   "execution_count": 74,
   "metadata": {},
   "outputs": [],
   "source": [
    "#Arica data\n",
    "log_af_rec = np.log(af_df['recovered'])\n",
    "log_af_rec = log_af_rec.replace([np.inf, -np.inf], np.nan).dropna()\n",
    "log_af_rec.to_csv(\"../data/log_af_rec.csv\")\n",
    "log_af_act = np.log(af_df['active'])\n",
    "log_af_act = log_af_act.replace([np.inf, -np.inf], np.nan).dropna()\n",
    "log_af_act.to_csv(\"../data/log_af_act.csv\")"
   ]
  },
  {
   "cell_type": "code",
   "execution_count": 75,
   "metadata": {},
   "outputs": [],
   "source": [
    "#Asia data\n",
    "log_asia_rec = np.log(asia_df['recovered'])\n",
    "log_asia_rec = log_asia_rec.replace([np.inf, -np.inf], np.nan).dropna()\n",
    "log_asia_rec.to_csv(\"../data/log_asia_rec.csv\")\n",
    "log_asia_act = np.log(asia_df['active'])\n",
    "log_asia_act = log_asia_act.replace([np.inf, -np.inf], np.nan).dropna()\n",
    "log_asia_act.to_csv(\"../data/log_asia_act.csv\")"
   ]
  },
  {
   "cell_type": "code",
   "execution_count": 76,
   "metadata": {},
   "outputs": [],
   "source": [
    "#Europe data \n",
    "log_eu_rec = np.log(eu_df['recovered'])\n",
    "log_eu_rec = log_eu_rec.replace([np.inf, -np.inf], np.nan).dropna()\n",
    "log_eu_rec.to_csv(\"../data/log_eu_rec.csv\")\n",
    "log_eu_act = np.log(eu_df['active'])\n",
    "log_eu_act = log_eu_act.replace([np.inf, -np.inf], np.nan).dropna()\n",
    "log_eu_act.to_csv(\"../data/log_eu_act.csv\")"
   ]
  },
  {
   "cell_type": "code",
   "execution_count": 78,
   "metadata": {},
   "outputs": [],
   "source": [
    "#North America data\n",
    "log_noam_rec = np.log(noam_df['recovered'])\n",
    "log_noam_rec = log_noam_rec.replace([np.inf, -np.inf], np.nan).dropna()\n",
    "log_noam_rec.to_csv(\"../data/log_noam_rec.csv\")\n",
    "log_noam_act = np.log(noam_df['active'])\n",
    "log_noam_act = log_noam_act.replace([np.inf, -np.inf], np.nan).dropna()\n",
    "log_noam_act.to_csv(\"../data/log_noam_act.csv\")"
   ]
  },
  {
   "cell_type": "code",
   "execution_count": 79,
   "metadata": {},
   "outputs": [],
   "source": [
    "#South America data\n",
    "log_soam_rec = np.log(soam_df['recovered'])\n",
    "log_soam_rec = log_soam_rec.replace([np.inf, -np.inf], np.nan).dropna()\n",
    "log_soam_rec.to_csv(\"../data/log_soam_rec.csv\")\n",
    "log_soam_act = np.log(soam_df['active'])\n",
    "log_soam_act = log_soam_act.replace([np.inf, -np.inf], np.nan).dropna()\n",
    "log_soam_act.to_csv(\"../data/log_soam_act.csv\")"
   ]
  },
  {
   "cell_type": "code",
   "execution_count": 43,
   "metadata": {},
   "outputs": [],
   "source": [
    "###Function modified from Cowboy Cigarettes Case Study \n",
    "\n",
    "# Make a function called evaluate_arima_model to find the MSE of a single ARIMA model \n",
    "def evaluate_arima_model(data, arima_order):\n",
    "    # Needs to be an integer because it is later used as an index.\n",
    "    # Use int()\n",
    "    split=int(len(data) * 0.8) \n",
    "    # Make train and test variables, with 'train, test'\n",
    "    train, test = data[0:split], data[split:len(data)]\n",
    "    past=[x for x in train]\n",
    "    # make predictions. Declare a variable with that name\n",
    "    predictions = list()\n",
    "    for i in range(len(test)):#timestep-wise comparison between test data and one-step prediction ARIMA model. \n",
    "        model = ARIMA(past, order=arima_order)\n",
    "        model_fit = model.fit(disp=0)\n",
    "        future = model_fit.forecast()[0]\n",
    "        # Append() here\n",
    "        predictions.append(future)\n",
    "        past.append(test[i])\n",
    "    # calculate out of sample error\n",
    "    error = mean_squared_error(test, predictions)\n",
    "    # Return the error\n",
    "    return error"
   ]
  },
  {
   "cell_type": "code",
   "execution_count": 44,
   "metadata": {},
   "outputs": [],
   "source": [
    "###Function modified from Cowboy Cigarettes Case Study \n",
    "\n",
    "# Make a function called evaluate_models to evaluate different ARIMA models with several different p, d, and q values.\n",
    "def evaluate_models(dataset, p_values, d_values, q_values):\n",
    "    best_score, best_cfg = float(\"inf\"), None\n",
    "    # Iterate through p_values\n",
    "    for p in p_values:\n",
    "        # Iterate through d_values\n",
    "        for d in d_values:\n",
    "            # Iterate through q_values\n",
    "            for q in q_values:\n",
    "                # p, d, q iterator variables in that order\n",
    "                order = (p, d, q)\n",
    "                try:\n",
    "                    # Make a variable called mse for the Mean squared error\n",
    "                    mse = evaluate_arima_model(dataset, order)\n",
    "                    if mse < best_score:\n",
    "                        best_score, best_cfg = mse, order\n",
    "                    print('ARIMA%s MSE=%.3f' % (order,mse))\n",
    "                except:\n",
    "                    continue\n",
    "    return print('Best ARIMA%s MSE=%.3f' % (best_cfg, best_score))"
   ]
  },
  {
   "cell_type": "code",
   "execution_count": 45,
   "metadata": {},
   "outputs": [],
   "source": [
    "# Now, we choose a couple of values to try for each parameter: p_values, d_values and q_values\n",
    "# Fill in the blanks as appropriate\n",
    "p_values = [x for x in range(0, 3)]\n",
    "d_values = [x for x in range(0, 3)]\n",
    "q_values = [x for x in range(0, 3)]"
   ]
  },
  {
   "cell_type": "code",
   "execution_count": 52,
   "metadata": {},
   "outputs": [],
   "source": [
    "# # monkey patch around bug in ARIMA class\n",
    "# def __getnewargs__(self):\n",
    "# \treturn ((self.endog),(self.k_lags, self.k_diff, self.k_ma))\n",
    "# ARIMA.__getnewargs__ = __getnewargs__\n",
    "\n",
    "\n",
    "\n",
    "\n",
    "def pickle_best_model(data, arima_order, filename):\n",
    "\n",
    "    # Save Model Using Pickle\n",
    "    split=int(len(data) * 0.8) \n",
    "\n",
    "    # Make train and test variables, with 'train, test'\n",
    "    train, test = data[0:split], data[split:len(data)]\n",
    "    past=[x for x in train]\n",
    "    # Fit the model on training set with best order\n",
    "    model = ARIMA(past, order=arima_order)\n",
    "    model_fit = model.fit(disp=0)\n",
    "    model_fit.version = '1.0'\n",
    "    model_fit.pandas_version = pd.__version__\n",
    "    model_fit.numpy_version = np.__version__\n",
    "    model_fit.sklearn_version = sklearn_version\n",
    "    model_fit.statsmodels_version = statsmodels_version\n",
    "    model_fit.build_datetime = datetime.datetime.now()\n",
    "    \n",
    "    # save the model to disk - write binary\n",
    "    ##filename = 'finalized_model.sav'\n",
    "    pickle.dump(model_fit, open(filename, 'wb'))\n",
    " \n"
   ]
  },
  {
   "cell_type": "code",
   "execution_count": 47,
   "metadata": {
    "scrolled": false
   },
   "outputs": [
    {
     "name": "stdout",
     "output_type": "stream",
     "text": [
      "ARIMA(0, 0, 0) MSE=12.565\n",
      "ARIMA(0, 0, 1) MSE=3.155\n",
      "ARIMA(0, 0, 2) MSE=0.888\n",
      "ARIMA(0, 1, 0) MSE=0.001\n",
      "ARIMA(0, 1, 1) MSE=0.001\n",
      "ARIMA(0, 1, 2) MSE=0.001\n",
      "ARIMA(0, 2, 0) MSE=0.000\n",
      "ARIMA(0, 2, 1) MSE=0.000\n",
      "ARIMA(0, 2, 2) MSE=0.000\n",
      "ARIMA(1, 0, 0) MSE=0.000\n",
      "ARIMA(1, 0, 1) MSE=0.000\n",
      "ARIMA(1, 0, 2) MSE=0.000\n",
      "ARIMA(1, 1, 0) MSE=0.001\n",
      "ARIMA(1, 1, 1) MSE=0.000\n",
      "ARIMA(1, 1, 2) MSE=0.000\n",
      "ARIMA(1, 2, 0) MSE=0.000\n",
      "ARIMA(1, 2, 1) MSE=0.000\n",
      "ARIMA(1, 2, 2) MSE=0.000\n",
      "ARIMA(2, 0, 0) MSE=0.000\n",
      "ARIMA(2, 0, 1) MSE=0.000\n",
      "ARIMA(2, 0, 2) MSE=0.000\n",
      "ARIMA(2, 1, 0) MSE=0.000\n",
      "ARIMA(2, 1, 1) MSE=0.000\n",
      "ARIMA(2, 1, 2) MSE=0.000\n",
      "ARIMA(2, 2, 0) MSE=0.000\n",
      "ARIMA(2, 2, 1) MSE=0.000\n",
      "ARIMA(2, 2, 2) MSE=0.000\n",
      "Best ARIMA(2, 2, 0) MSE=0.000\n"
     ]
    }
   ],
   "source": [
    "# Find the optimum ARIMA model for our Africa recovered sample.\n",
    "\n",
    "import warnings\n",
    "warnings.filterwarnings(\"ignore\")\n",
    "evaluate_models(log_af_rec, p_values, d_values, q_values)"
   ]
  },
  {
   "cell_type": "code",
   "execution_count": 55,
   "metadata": {},
   "outputs": [],
   "source": [
    "pickle_best_model(log_af_rec, (2, 2, 0), '../models/af_rec_model.sav')"
   ]
  },
  {
   "cell_type": "code",
   "execution_count": 56,
   "metadata": {},
   "outputs": [
    {
     "name": "stdout",
     "output_type": "stream",
     "text": [
      "ARIMA(0, 0, 0) MSE=5.938\n",
      "ARIMA(0, 0, 1) MSE=1.524\n",
      "ARIMA(0, 1, 0) MSE=0.003\n",
      "ARIMA(0, 1, 1) MSE=0.002\n",
      "ARIMA(0, 1, 2) MSE=0.002\n",
      "ARIMA(0, 2, 0) MSE=0.001\n",
      "ARIMA(0, 2, 1) MSE=0.000\n",
      "ARIMA(0, 2, 2) MSE=0.000\n",
      "ARIMA(1, 0, 0) MSE=0.001\n",
      "ARIMA(1, 0, 1) MSE=0.001\n",
      "ARIMA(1, 0, 2) MSE=0.001\n",
      "ARIMA(1, 1, 0) MSE=0.001\n",
      "ARIMA(1, 1, 1) MSE=0.001\n",
      "ARIMA(1, 2, 0) MSE=0.001\n",
      "ARIMA(1, 2, 1) MSE=0.000\n",
      "ARIMA(1, 2, 2) MSE=0.000\n",
      "ARIMA(2, 0, 0) MSE=0.001\n",
      "ARIMA(2, 0, 1) MSE=0.000\n",
      "ARIMA(2, 1, 0) MSE=0.001\n",
      "ARIMA(2, 2, 0) MSE=0.001\n",
      "ARIMA(2, 2, 1) MSE=0.000\n",
      "ARIMA(2, 2, 2) MSE=0.000\n",
      "Best ARIMA(0, 2, 1) MSE=0.000\n"
     ]
    }
   ],
   "source": [
    "# Find the optimum ARIMA model for our Africa active sample.\n",
    "evaluate_models(log_af_act, p_values, d_values, q_values)"
   ]
  },
  {
   "cell_type": "code",
   "execution_count": 57,
   "metadata": {},
   "outputs": [],
   "source": [
    "pickle_best_model(log_af_act, (0, 2, 1), '../models/af_act_model.sav')"
   ]
  },
  {
   "cell_type": "code",
   "execution_count": 58,
   "metadata": {},
   "outputs": [
    {
     "name": "stdout",
     "output_type": "stream",
     "text": [
      "ARIMA(0, 0, 0) MSE=10.530\n",
      "ARIMA(0, 0, 1) MSE=2.744\n",
      "ARIMA(0, 0, 2) MSE=0.878\n",
      "ARIMA(0, 1, 0) MSE=0.001\n",
      "ARIMA(0, 1, 1) MSE=0.002\n",
      "ARIMA(0, 1, 2) MSE=0.001\n",
      "ARIMA(0, 2, 0) MSE=0.000\n",
      "ARIMA(0, 2, 1) MSE=0.000\n",
      "ARIMA(0, 2, 2) MSE=0.000\n",
      "ARIMA(1, 0, 0) MSE=0.000\n",
      "ARIMA(1, 0, 1) MSE=0.000\n",
      "ARIMA(1, 0, 2) MSE=0.000\n",
      "ARIMA(1, 1, 0) MSE=0.002\n",
      "ARIMA(1, 1, 1) MSE=0.000\n",
      "ARIMA(1, 1, 2) MSE=0.000\n",
      "ARIMA(1, 2, 0) MSE=0.000\n",
      "ARIMA(1, 2, 2) MSE=0.000\n",
      "ARIMA(2, 0, 0) MSE=0.000\n",
      "ARIMA(2, 0, 1) MSE=0.000\n",
      "ARIMA(2, 1, 0) MSE=0.001\n",
      "ARIMA(2, 1, 2) MSE=0.000\n",
      "ARIMA(2, 2, 0) MSE=0.000\n",
      "ARIMA(2, 2, 1) MSE=0.000\n",
      "ARIMA(2, 2, 2) MSE=0.000\n",
      "Best ARIMA(1, 1, 1) MSE=0.000\n"
     ]
    }
   ],
   "source": [
    "# Find the optimum ARIMA model for our Asia recovered sample.\n",
    "evaluate_models(log_asia_rec, p_values, d_values, q_values)"
   ]
  },
  {
   "cell_type": "code",
   "execution_count": 59,
   "metadata": {},
   "outputs": [],
   "source": [
    "pickle_best_model(log_asia_rec, (1, 1, 1), '../models/asia_rec_model.sav')"
   ]
  },
  {
   "cell_type": "code",
   "execution_count": 60,
   "metadata": {},
   "outputs": [
    {
     "name": "stdout",
     "output_type": "stream",
     "text": [
      "ARIMA(0, 0, 0) MSE=1.730\n",
      "ARIMA(0, 0, 1) MSE=0.580\n",
      "ARIMA(0, 1, 0) MSE=0.018\n",
      "ARIMA(0, 1, 1) MSE=0.027\n",
      "ARIMA(0, 1, 2) MSE=0.033\n",
      "ARIMA(0, 2, 0) MSE=0.048\n",
      "ARIMA(0, 2, 1) MSE=0.023\n",
      "ARIMA(0, 2, 2) MSE=0.024\n",
      "ARIMA(1, 0, 0) MSE=0.017\n",
      "ARIMA(1, 0, 1) MSE=0.027\n",
      "ARIMA(1, 0, 2) MSE=0.033\n",
      "ARIMA(1, 1, 0) MSE=0.033\n",
      "ARIMA(1, 1, 2) MSE=0.024\n",
      "ARIMA(1, 2, 0) MSE=0.035\n",
      "ARIMA(1, 2, 1) MSE=0.031\n",
      "ARIMA(1, 2, 2) MSE=0.031\n",
      "ARIMA(2, 0, 0) MSE=0.034\n",
      "ARIMA(2, 1, 0) MSE=0.033\n",
      "ARIMA(2, 1, 1) MSE=0.031\n",
      "ARIMA(2, 1, 2) MSE=0.031\n",
      "ARIMA(2, 2, 0) MSE=0.036\n",
      "ARIMA(2, 2, 1) MSE=0.032\n",
      "ARIMA(2, 2, 2) MSE=0.030\n",
      "Best ARIMA(1, 0, 0) MSE=0.017\n"
     ]
    }
   ],
   "source": [
    "# Find the optimum ARIMA model for our Asia active sample.\n",
    "evaluate_models(log_asia_act, p_values, d_values, q_values)"
   ]
  },
  {
   "cell_type": "code",
   "execution_count": 61,
   "metadata": {},
   "outputs": [],
   "source": [
    "pickle_best_model(log_asia_act, (1, 0, 0), '../models/asia_act_model.sav')"
   ]
  },
  {
   "cell_type": "code",
   "execution_count": 62,
   "metadata": {},
   "outputs": [
    {
     "name": "stdout",
     "output_type": "stream",
     "text": [
      "ARIMA(0, 0, 0) MSE=6.181\n",
      "ARIMA(0, 0, 1) MSE=1.815\n",
      "ARIMA(0, 0, 2) MSE=0.667\n",
      "ARIMA(0, 1, 0) MSE=0.001\n",
      "ARIMA(0, 1, 1) MSE=0.003\n",
      "ARIMA(0, 1, 2) MSE=0.002\n",
      "ARIMA(0, 2, 0) MSE=0.000\n",
      "ARIMA(0, 2, 1) MSE=0.002\n",
      "ARIMA(0, 2, 2) MSE=0.001\n",
      "ARIMA(1, 0, 0) MSE=0.002\n",
      "ARIMA(1, 0, 1) MSE=0.002\n",
      "ARIMA(1, 0, 2) MSE=0.002\n",
      "ARIMA(1, 1, 0) MSE=0.002\n",
      "ARIMA(1, 1, 1) MSE=0.002\n",
      "ARIMA(1, 1, 2) MSE=0.002\n",
      "ARIMA(1, 2, 0) MSE=0.000\n",
      "ARIMA(1, 2, 2) MSE=0.002\n",
      "ARIMA(2, 0, 0) MSE=0.001\n",
      "ARIMA(2, 0, 1) MSE=0.002\n",
      "ARIMA(2, 0, 2) MSE=0.002\n",
      "ARIMA(2, 1, 0) MSE=0.002\n",
      "ARIMA(2, 2, 0) MSE=0.000\n",
      "ARIMA(2, 2, 1) MSE=0.004\n",
      "ARIMA(2, 2, 2) MSE=0.002\n",
      "Best ARIMA(1, 2, 0) MSE=0.000\n"
     ]
    }
   ],
   "source": [
    "# Find the optimum ARIMA model for our Europe recovered sample.\n",
    "evaluate_models(log_eu_rec, p_values, d_values, q_values)"
   ]
  },
  {
   "cell_type": "code",
   "execution_count": 63,
   "metadata": {},
   "outputs": [],
   "source": [
    "pickle_best_model(log_eu_rec, (1, 2, 0), '../models/eu_rec_model.sav')"
   ]
  },
  {
   "cell_type": "code",
   "execution_count": 64,
   "metadata": {},
   "outputs": [
    {
     "name": "stdout",
     "output_type": "stream",
     "text": [
      "ARIMA(0, 0, 0) MSE=10.267\n",
      "ARIMA(0, 0, 1) MSE=3.105\n",
      "ARIMA(0, 0, 2) MSE=1.433\n",
      "ARIMA(0, 1, 0) MSE=0.002\n",
      "ARIMA(0, 1, 1) MSE=0.009\n",
      "ARIMA(0, 1, 2) MSE=0.009\n",
      "ARIMA(0, 2, 0) MSE=0.000\n",
      "ARIMA(0, 2, 1) MSE=0.003\n",
      "ARIMA(0, 2, 2) MSE=0.002\n",
      "ARIMA(1, 0, 0) MSE=0.007\n",
      "ARIMA(1, 0, 1) MSE=0.003\n",
      "ARIMA(1, 0, 2) MSE=0.003\n",
      "ARIMA(1, 1, 0) MSE=0.003\n",
      "ARIMA(1, 1, 1) MSE=0.009\n",
      "ARIMA(1, 1, 2) MSE=0.009\n",
      "ARIMA(1, 2, 0) MSE=0.000\n",
      "ARIMA(2, 0, 0) MSE=0.003\n",
      "ARIMA(2, 0, 1) MSE=0.003\n",
      "ARIMA(2, 0, 2) MSE=0.003\n",
      "ARIMA(2, 1, 0) MSE=0.005\n",
      "ARIMA(2, 1, 1) MSE=0.008\n",
      "ARIMA(2, 1, 2) MSE=0.008\n",
      "ARIMA(2, 2, 0) MSE=0.000\n",
      "Best ARIMA(2, 2, 0) MSE=0.000\n"
     ]
    }
   ],
   "source": [
    "# Find the optimum ARIMA model for our Europe active sample.\n",
    "evaluate_models(log_eu_act, p_values, d_values, q_values)"
   ]
  },
  {
   "cell_type": "code",
   "execution_count": 65,
   "metadata": {},
   "outputs": [],
   "source": [
    "pickle_best_model(log_eu_act, (2, 2, 0), '../models/eu_act_model.sav')"
   ]
  },
  {
   "cell_type": "code",
   "execution_count": 66,
   "metadata": {},
   "outputs": [
    {
     "name": "stdout",
     "output_type": "stream",
     "text": [
      "ARIMA(0, 0, 0) MSE=7.481\n",
      "ARIMA(0, 0, 1) MSE=2.075\n",
      "ARIMA(0, 1, 0) MSE=0.053\n",
      "ARIMA(0, 1, 1) MSE=0.057\n",
      "ARIMA(0, 1, 2) MSE=0.062\n",
      "ARIMA(0, 2, 0) MSE=0.102\n",
      "ARIMA(0, 2, 1) MSE=0.050\n",
      "ARIMA(0, 2, 2) MSE=0.053\n",
      "ARIMA(1, 0, 0) MSE=0.050\n",
      "ARIMA(1, 0, 1) MSE=0.051\n",
      "ARIMA(1, 0, 2) MSE=0.053\n",
      "ARIMA(1, 1, 0) MSE=0.054\n",
      "ARIMA(1, 1, 1) MSE=0.054\n",
      "ARIMA(1, 1, 2) MSE=0.062\n",
      "ARIMA(1, 2, 0) MSE=0.077\n",
      "ARIMA(1, 2, 1) MSE=0.051\n",
      "ARIMA(2, 0, 0) MSE=0.050\n",
      "ARIMA(2, 0, 2) MSE=0.054\n",
      "ARIMA(2, 1, 0) MSE=0.060\n",
      "ARIMA(2, 1, 1) MSE=0.060\n",
      "ARIMA(2, 1, 2) MSE=0.063\n",
      "ARIMA(2, 2, 0) MSE=0.072\n",
      "ARIMA(2, 2, 1) MSE=0.054\n",
      "Best ARIMA(1, 0, 0) MSE=0.050\n"
     ]
    }
   ],
   "source": [
    "# Find the optimum ARIMA model for our North America recovered sample.\n",
    "evaluate_models(log_noam_rec, p_values, d_values, q_values)"
   ]
  },
  {
   "cell_type": "code",
   "execution_count": 67,
   "metadata": {},
   "outputs": [],
   "source": [
    "pickle_best_model(log_noam_rec, (1, 0, 0), '../models/noam_rec_model.sav')"
   ]
  },
  {
   "cell_type": "code",
   "execution_count": 68,
   "metadata": {},
   "outputs": [
    {
     "name": "stdout",
     "output_type": "stream",
     "text": [
      "ARIMA(0, 0, 0) MSE=9.530\n",
      "ARIMA(0, 0, 1) MSE=2.753\n",
      "ARIMA(0, 0, 2) MSE=0.969\n",
      "ARIMA(0, 1, 0) MSE=0.005\n",
      "ARIMA(0, 1, 1) MSE=0.009\n",
      "ARIMA(0, 1, 2) MSE=0.009\n",
      "ARIMA(0, 2, 0) MSE=0.007\n",
      "ARIMA(0, 2, 1) MSE=0.008\n",
      "ARIMA(0, 2, 2) MSE=0.008\n",
      "ARIMA(1, 0, 0) MSE=0.005\n",
      "ARIMA(1, 0, 1) MSE=0.006\n",
      "ARIMA(1, 0, 2) MSE=0.006\n",
      "ARIMA(1, 1, 0) MSE=0.006\n",
      "ARIMA(1, 1, 1) MSE=0.009\n",
      "ARIMA(1, 1, 2) MSE=0.009\n",
      "ARIMA(1, 2, 0) MSE=0.006\n",
      "ARIMA(2, 0, 0) MSE=0.006\n",
      "ARIMA(2, 0, 1) MSE=0.006\n",
      "ARIMA(2, 0, 2) MSE=0.007\n",
      "ARIMA(2, 1, 0) MSE=0.008\n",
      "ARIMA(2, 1, 1) MSE=0.009\n",
      "ARIMA(2, 1, 2) MSE=0.009\n",
      "ARIMA(2, 2, 0) MSE=0.005\n",
      "ARIMA(2, 2, 1) MSE=0.015\n",
      "Best ARIMA(0, 1, 0) MSE=0.005\n"
     ]
    }
   ],
   "source": [
    "# Find the optimum ARIMA model for our North America active sample.\n",
    "evaluate_models(log_noam_act, p_values, d_values, q_values)"
   ]
  },
  {
   "cell_type": "code",
   "execution_count": 69,
   "metadata": {},
   "outputs": [],
   "source": [
    "pickle_best_model(log_noam_act, (0, 1, 0), '../models/noam_act_model.sav')"
   ]
  },
  {
   "cell_type": "code",
   "execution_count": 70,
   "metadata": {},
   "outputs": [
    {
     "name": "stdout",
     "output_type": "stream",
     "text": [
      "ARIMA(0, 0, 0) MSE=7.312\n",
      "ARIMA(0, 0, 1) MSE=1.926\n",
      "ARIMA(0, 0, 2) MSE=0.598\n",
      "ARIMA(0, 1, 0) MSE=0.003\n",
      "ARIMA(0, 1, 1) MSE=0.003\n",
      "ARIMA(0, 1, 2) MSE=0.003\n",
      "ARIMA(0, 2, 0) MSE=0.000\n",
      "ARIMA(0, 2, 1) MSE=0.000\n",
      "ARIMA(0, 2, 2) MSE=0.000\n",
      "ARIMA(1, 0, 0) MSE=0.000\n",
      "ARIMA(1, 0, 1) MSE=0.000\n",
      "ARIMA(1, 0, 2) MSE=0.000\n",
      "ARIMA(1, 1, 0) MSE=0.003\n",
      "ARIMA(1, 1, 1) MSE=0.001\n",
      "ARIMA(1, 1, 2) MSE=0.000\n",
      "ARIMA(1, 2, 0) MSE=0.000\n",
      "ARIMA(1, 2, 1) MSE=0.000\n",
      "ARIMA(1, 2, 2) MSE=0.000\n",
      "ARIMA(2, 0, 0) MSE=0.000\n",
      "ARIMA(2, 0, 1) MSE=0.000\n",
      "ARIMA(2, 1, 0) MSE=0.002\n",
      "ARIMA(2, 1, 1) MSE=0.000\n",
      "ARIMA(2, 2, 0) MSE=0.000\n",
      "ARIMA(2, 2, 1) MSE=0.000\n",
      "ARIMA(2, 2, 2) MSE=0.000\n",
      "Best ARIMA(2, 2, 0) MSE=0.000\n"
     ]
    }
   ],
   "source": [
    "# Find the optimum ARIMA model for our South America recovered sample.\n",
    "evaluate_models(log_soam_rec, p_values, d_values, q_values)"
   ]
  },
  {
   "cell_type": "code",
   "execution_count": 71,
   "metadata": {},
   "outputs": [],
   "source": [
    "pickle_best_model(log_soam_rec, (2, 2, 0), '../models/soam_rec_model.sav')"
   ]
  },
  {
   "cell_type": "code",
   "execution_count": 72,
   "metadata": {},
   "outputs": [
    {
     "name": "stdout",
     "output_type": "stream",
     "text": [
      "ARIMA(0, 0, 0) MSE=1.820\n",
      "ARIMA(0, 0, 1) MSE=0.516\n",
      "ARIMA(0, 0, 2) MSE=0.222\n",
      "ARIMA(0, 1, 0) MSE=0.004\n",
      "ARIMA(0, 1, 1) MSE=0.005\n",
      "ARIMA(0, 1, 2) MSE=0.005\n",
      "ARIMA(0, 2, 0) MSE=0.005\n",
      "ARIMA(0, 2, 1) MSE=0.005\n",
      "ARIMA(0, 2, 2) MSE=0.007\n",
      "ARIMA(1, 0, 0) MSE=0.002\n",
      "ARIMA(1, 0, 1) MSE=0.003\n",
      "ARIMA(1, 0, 2) MSE=0.003\n",
      "ARIMA(1, 1, 0) MSE=0.005\n",
      "ARIMA(1, 1, 1) MSE=0.005\n",
      "ARIMA(1, 1, 2) MSE=0.005\n",
      "ARIMA(1, 2, 0) MSE=0.004\n",
      "ARIMA(1, 2, 1) MSE=0.004\n",
      "ARIMA(1, 2, 2) MSE=0.007\n",
      "ARIMA(2, 0, 0) MSE=0.003\n",
      "ARIMA(2, 0, 1) MSE=0.003\n",
      "ARIMA(2, 0, 2) MSE=0.003\n",
      "ARIMA(2, 1, 0) MSE=0.005\n",
      "ARIMA(2, 1, 1) MSE=0.005\n",
      "ARIMA(2, 1, 2) MSE=0.005\n",
      "ARIMA(2, 2, 0) MSE=0.005\n",
      "ARIMA(2, 2, 1) MSE=0.005\n",
      "ARIMA(2, 2, 2) MSE=0.007\n",
      "Best ARIMA(1, 0, 0) MSE=0.002\n"
     ]
    }
   ],
   "source": [
    "# Find the optimum ARIMA model for our South America active sample.\n",
    "evaluate_models(log_soam_act, p_values, d_values, q_values)"
   ]
  },
  {
   "cell_type": "code",
   "execution_count": 73,
   "metadata": {},
   "outputs": [],
   "source": [
    "pickle_best_model(log_soam_act, (1, 0, 0), '../models/soam_act_model.sav')"
   ]
  }
 ],
 "metadata": {
  "kernelspec": {
   "display_name": "Python 3",
   "language": "python",
   "name": "python3"
  },
  "language_info": {
   "codemirror_mode": {
    "name": "ipython",
    "version": 3
   },
   "file_extension": ".py",
   "mimetype": "text/x-python",
   "name": "python",
   "nbconvert_exporter": "python",
   "pygments_lexer": "ipython3",
   "version": "3.8.5"
  }
 },
 "nbformat": 4,
 "nbformat_minor": 4
}
