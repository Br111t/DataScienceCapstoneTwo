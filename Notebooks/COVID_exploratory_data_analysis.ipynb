{
 "cells": [
  {
   "cell_type": "markdown",
   "metadata": {},
   "source": [
    "find highest number of vaccines \n",
    "If you could collect data on how many of for example which vaccine was used in which country,"
   ]
  },
  {
   "cell_type": "code",
   "execution_count": 1,
   "metadata": {},
   "outputs": [],
   "source": [
    "import math\n",
    "import io\n",
    "import numpy as np\n",
    "import pandas as pd\n",
    "import matplotlib.pyplot as plt\n",
    "import scipy.stats\n",
    "import scipy.optimize\n",
    "import scipy.spatial\n",
    "import seaborn as sns"
   ]
  },
  {
   "cell_type": "code",
   "execution_count": 2,
   "metadata": {},
   "outputs": [
    {
     "name": "stdout",
     "output_type": "stream",
     "text": [
      "<class 'pandas.core.frame.DataFrame'>\n",
      "RangeIndex: 967749 entries, 0 to 967748\n",
      "Data columns (total 6 columns):\n",
      " #   Column     Non-Null Count   Dtype \n",
      "---  ------     --------------   ----- \n",
      " 0   date       967749 non-null  object\n",
      " 1   country    967749 non-null  object\n",
      " 2   confirmed  967749 non-null  int64 \n",
      " 3   deaths     967749 non-null  int64 \n",
      " 4   recovered  967749 non-null  int64 \n",
      " 5   active     967749 non-null  int64 \n",
      "dtypes: int64(4), object(2)\n",
      "memory usage: 44.3+ MB\n"
     ]
    }
   ],
   "source": [
    "cases = pd.read_csv('../data/covid_cases_cleaned.csv')\n",
    "cases.info()"
   ]
  },
  {
   "cell_type": "code",
   "execution_count": 3,
   "metadata": {},
   "outputs": [
    {
     "data": {
      "text/plain": [
       "United States           0.917051\n",
       "Russia                  0.018223\n",
       "China                   0.010953\n",
       "India                   0.007810\n",
       "Mexico                  0.007511\n",
       "Brazil                  0.006328\n",
       "Italy                   0.005077\n",
       "Spain                   0.004834\n",
       "Canada                  0.004435\n",
       "Germany                 0.004133\n",
       "United Kingdom          0.004106\n",
       "Chile                   0.003998\n",
       "France                  0.003329\n",
       "United Arab Emirates    0.000346\n",
       "Israel                  0.000322\n",
       "Indonesia               0.000312\n",
       "Morocco                 0.000312\n",
       "Poland                  0.000310\n",
       "Bangladesh              0.000306\n",
       "Turkey                  0.000303\n",
       "Name: country, dtype: float64"
      ]
     },
     "execution_count": 3,
     "metadata": {},
     "output_type": "execute_result"
    }
   ],
   "source": [
    "cases.country.value_counts(normalize=True)"
   ]
  },
  {
   "cell_type": "markdown",
   "metadata": {},
   "source": [
    "US makes up 91% of the data"
   ]
  },
  {
   "cell_type": "code",
   "execution_count": 4,
   "metadata": {},
   "outputs": [
    {
     "data": {
      "text/html": [
       "<div>\n",
       "<style scoped>\n",
       "    .dataframe tbody tr th:only-of-type {\n",
       "        vertical-align: middle;\n",
       "    }\n",
       "\n",
       "    .dataframe tbody tr th {\n",
       "        vertical-align: top;\n",
       "    }\n",
       "\n",
       "    .dataframe thead th {\n",
       "        text-align: right;\n",
       "    }\n",
       "</style>\n",
       "<table border=\"1\" class=\"dataframe\">\n",
       "  <thead>\n",
       "    <tr style=\"text-align: right;\">\n",
       "      <th></th>\n",
       "      <th>confirmed</th>\n",
       "      <th>deaths</th>\n",
       "      <th>recovered</th>\n",
       "      <th>active</th>\n",
       "    </tr>\n",
       "  </thead>\n",
       "  <tbody>\n",
       "    <tr>\n",
       "      <th>count</th>\n",
       "      <td>302.000000</td>\n",
       "      <td>302.000000</td>\n",
       "      <td>302.000000</td>\n",
       "      <td>302.000000</td>\n",
       "    </tr>\n",
       "    <tr>\n",
       "      <th>mean</th>\n",
       "      <td>104167.655629</td>\n",
       "      <td>1769.357616</td>\n",
       "      <td>88067.208609</td>\n",
       "      <td>14331.089404</td>\n",
       "    </tr>\n",
       "    <tr>\n",
       "      <th>std</th>\n",
       "      <td>137022.051607</td>\n",
       "      <td>2261.909532</td>\n",
       "      <td>120982.027899</td>\n",
       "      <td>15373.577791</td>\n",
       "    </tr>\n",
       "    <tr>\n",
       "      <th>min</th>\n",
       "      <td>1.000000</td>\n",
       "      <td>0.000000</td>\n",
       "      <td>0.000000</td>\n",
       "      <td>1.000000</td>\n",
       "    </tr>\n",
       "    <tr>\n",
       "      <th>25%</th>\n",
       "      <td>6773.250000</td>\n",
       "      <td>192.000000</td>\n",
       "      <td>3530.250000</td>\n",
       "      <td>2144.250000</td>\n",
       "    </tr>\n",
       "    <tr>\n",
       "      <th>50%</th>\n",
       "      <td>23790.500000</td>\n",
       "      <td>349.500000</td>\n",
       "      <td>17484.500000</td>\n",
       "      <td>5956.500000</td>\n",
       "    </tr>\n",
       "    <tr>\n",
       "      <th>75%</th>\n",
       "      <td>169970.250000</td>\n",
       "      <td>2863.000000</td>\n",
       "      <td>140783.000000</td>\n",
       "      <td>24813.000000</td>\n",
       "    </tr>\n",
       "    <tr>\n",
       "      <th>max</th>\n",
       "      <td>439193.000000</td>\n",
       "      <td>7388.000000</td>\n",
       "      <td>407504.000000</td>\n",
       "      <td>49800.000000</td>\n",
       "    </tr>\n",
       "  </tbody>\n",
       "</table>\n",
       "</div>"
      ],
      "text/plain": [
       "           confirmed       deaths      recovered        active\n",
       "count     302.000000   302.000000     302.000000    302.000000\n",
       "mean   104167.655629  1769.357616   88067.208609  14331.089404\n",
       "std    137022.051607  2261.909532  120982.027899  15373.577791\n",
       "min         1.000000     0.000000       0.000000      1.000000\n",
       "25%      6773.250000   192.000000    3530.250000   2144.250000\n",
       "50%     23790.500000   349.500000   17484.500000   5956.500000\n",
       "75%    169970.250000  2863.000000  140783.000000  24813.000000\n",
       "max    439193.000000  7388.000000  407504.000000  49800.000000"
      ]
     },
     "execution_count": 4,
     "metadata": {},
     "output_type": "execute_result"
    }
   ],
   "source": [
    "#Morrocco\n",
    "mor_df = pd.DataFrame(cases[cases['country'] == 'Morocco'])\n",
    "mor_df.describe()"
   ]
  },
  {
   "cell_type": "code",
   "execution_count": 5,
   "metadata": {},
   "outputs": [
    {
     "data": {
      "text/plain": [
       "China                   0.447333\n",
       "India                   0.318957\n",
       "Germany                 0.168805\n",
       "United Arab Emirates    0.014137\n",
       "Israel                  0.013167\n",
       "Indonesia               0.012745\n",
       "Bangladesh              0.012492\n",
       "Turkey                  0.012365\n",
       "Name: country, dtype: float64"
      ]
     },
     "execution_count": 5,
     "metadata": {},
     "output_type": "execute_result"
    }
   ],
   "source": [
    "#Asia: Indonesia, Bangladesh, United Arab Emirates, Germany, Israel, Turkey, India, China\n",
    "ind_df = cases[cases['country'] == 'Indonesia']\n",
    "bgd_df = cases[cases['country'] == 'Bangladesh']\n",
    "are_df = cases[cases['country'] == 'United Arab Emirates']\n",
    "deu_df = cases[cases['country'] == 'Germany']\n",
    "isr_df = cases[cases['country'] == 'Israel']\n",
    "tur_df = cases[cases['country'] == 'Turkey']\n",
    "indi_df = cases[cases['country'] == 'India']\n",
    "chn_df = cases[cases['country'] == 'China']\n",
    "\n",
    "asia_df = pd.concat([ind_df, bgd_df, are_df, deu_df, isr_df, tur_df, indi_df, chn_df])\n",
    "asia_df.country.value_counts(normalize=True)"
   ]
  },
  {
   "cell_type": "code",
   "execution_count": 6,
   "metadata": {},
   "outputs": [
    {
     "data": {
      "text/plain": [
       "Russia            0.507891\n",
       "Italy             0.141495\n",
       "Spain             0.134727\n",
       "United Kingdom    0.114452\n",
       "France            0.092794\n",
       "Poland            0.008640\n",
       "Name: country, dtype: float64"
      ]
     },
     "execution_count": 6,
     "metadata": {},
     "output_type": "execute_result"
    }
   ],
   "source": [
    "#Europe: Poland, Spain, Italy, France, Russia, United Kingdom\n",
    "\n",
    "pol_df = cases[cases['country'] == 'Poland']\n",
    "esp_df = cases[cases['country'] == 'Spain']\n",
    "ity_df = cases[cases['country'] == 'Italy']\n",
    "fra_df = cases[cases['country'] == 'France']\n",
    "rus_df = cases[cases['country'] == 'Russia']\n",
    "gbr_df = cases[cases['country'] == 'United Kingdom']\n",
    "\n",
    "eu_df = pd.concat([pol_df, esp_df, ity_df, fra_df, rus_df, gbr_df])\n",
    "eu_df.country.value_counts(normalize=True)"
   ]
  },
  {
   "cell_type": "code",
   "execution_count": 7,
   "metadata": {},
   "outputs": [
    {
     "data": {
      "text/plain": [
       "United States    0.995187\n",
       "Canada           0.004813\n",
       "Name: country, dtype: float64"
      ]
     },
     "execution_count": 7,
     "metadata": {},
     "output_type": "execute_result"
    }
   ],
   "source": [
    "#North America: United States, Canada\n",
    "usa_df = cases[cases['country'] == 'United States']\n",
    "can_df = cases[cases['country'] == 'Canada']\n",
    "\n",
    "noam_df = pd.concat([usa_df, can_df])\n",
    "noam_df.country.value_counts(normalize=True)"
   ]
  },
  {
   "cell_type": "code",
   "execution_count": 8,
   "metadata": {},
   "outputs": [
    {
     "data": {
      "text/plain": [
       "Mexico    0.421098\n",
       "Brazil    0.354768\n",
       "Chile     0.224134\n",
       "Name: country, dtype: float64"
      ]
     },
     "execution_count": 8,
     "metadata": {},
     "output_type": "execute_result"
    }
   ],
   "source": [
    "#South America: Mexico, Chile, Brazil\n",
    "mex_df = cases[cases['country'] == 'Mexico']\n",
    "chl_df = cases[cases['country'] == 'Chile']\n",
    "bra_df = cases[cases['country'] == 'Brazil']\n",
    "\n",
    "soam_df = pd.concat([mex_df, chl_df, bra_df])\n",
    "soam_df.country.value_counts(normalize=True)"
   ]
  },
  {
   "cell_type": "code",
   "execution_count": 9,
   "metadata": {},
   "outputs": [
    {
     "name": "stdout",
     "output_type": "stream",
     "text": [
      "<class 'pandas.core.frame.DataFrame'>\n",
      "Int64Index: 891767 entries, 80274 to 4291\n",
      "Data columns (total 6 columns):\n",
      " #   Column     Non-Null Count   Dtype \n",
      "---  ------     --------------   ----- \n",
      " 0   date       891767 non-null  object\n",
      " 1   country    891767 non-null  object\n",
      " 2   confirmed  891767 non-null  int64 \n",
      " 3   deaths     891767 non-null  int64 \n",
      " 4   recovered  891767 non-null  int64 \n",
      " 5   active     891767 non-null  int64 \n",
      "dtypes: int64(4), object(2)\n",
      "memory usage: 47.6+ MB\n"
     ]
    }
   ],
   "source": [
    "noam_df.info()"
   ]
  },
  {
   "cell_type": "code",
   "execution_count": 10,
   "metadata": {},
   "outputs": [],
   "source": [
    "# _ = plt.plot(noam_df.date.month, noam_df['deaths'], 'r')\n",
    "# _ = plt.plot(noam_df.date.month, noam_df['confirmed'], 'b')\n",
    "# plt.show()\n",
    "noam_df['date'] = pd.to_datetime(noam_df['date'],format='%Y-%m-%d')\n",
    "n_df = noam_df.set_index('date').sort_index()\n",
    "n_df.index = n_df.index.to_pydatetime()\n",
    "\n",
    "# two_H = n_df['2020-06':'2020-12'][:]\n",
    "# type(two_H)\n",
    "# # plt.xticks(rotation=45)\n",
    "# plt.title('North America: June to December, 2020')\n",
    "# plt.plot(two_H, color='black')\n",
    "# plt.show()\n",
    "#plt.plot(two_H)"
   ]
  },
  {
   "cell_type": "code",
   "execution_count": 11,
   "metadata": {},
   "outputs": [],
   "source": [
    "# sns.set_theme(style=\"ticks\")\n",
    "# sns.jointplot(x='confirmed', y='deaths', data=n_df, kind=\"hex\", color=\"#4CB391\")"
   ]
  },
  {
   "cell_type": "code",
   "execution_count": 13,
   "metadata": {},
   "outputs": [
    {
     "data": {
      "text/html": [
       "<div>\n",
       "<style scoped>\n",
       "    .dataframe tbody tr th:only-of-type {\n",
       "        vertical-align: middle;\n",
       "    }\n",
       "\n",
       "    .dataframe tbody tr th {\n",
       "        vertical-align: top;\n",
       "    }\n",
       "\n",
       "    .dataframe thead th {\n",
       "        text-align: right;\n",
       "    }\n",
       "</style>\n",
       "<table border=\"1\" class=\"dataframe\">\n",
       "  <thead>\n",
       "    <tr style=\"text-align: right;\">\n",
       "      <th></th>\n",
       "      <th>date</th>\n",
       "      <th>country</th>\n",
       "      <th>confirmed</th>\n",
       "      <th>deaths</th>\n",
       "      <th>recovered</th>\n",
       "      <th>active</th>\n",
       "    </tr>\n",
       "  </thead>\n",
       "  <tbody>\n",
       "    <tr>\n",
       "      <th>0</th>\n",
       "      <td>2020-01-26</td>\n",
       "      <td>Canada</td>\n",
       "      <td>1</td>\n",
       "      <td>0</td>\n",
       "      <td>0</td>\n",
       "      <td>1</td>\n",
       "    </tr>\n",
       "    <tr>\n",
       "      <th>1</th>\n",
       "      <td>2020-01-27</td>\n",
       "      <td>Canada</td>\n",
       "      <td>1</td>\n",
       "      <td>0</td>\n",
       "      <td>0</td>\n",
       "      <td>1</td>\n",
       "    </tr>\n",
       "    <tr>\n",
       "      <th>2</th>\n",
       "      <td>2020-01-28</td>\n",
       "      <td>Canada</td>\n",
       "      <td>1</td>\n",
       "      <td>0</td>\n",
       "      <td>0</td>\n",
       "      <td>1</td>\n",
       "    </tr>\n",
       "    <tr>\n",
       "      <th>3</th>\n",
       "      <td>2020-01-28</td>\n",
       "      <td>Canada</td>\n",
       "      <td>1</td>\n",
       "      <td>0</td>\n",
       "      <td>0</td>\n",
       "      <td>1</td>\n",
       "    </tr>\n",
       "    <tr>\n",
       "      <th>4</th>\n",
       "      <td>2020-01-29</td>\n",
       "      <td>Canada</td>\n",
       "      <td>1</td>\n",
       "      <td>0</td>\n",
       "      <td>0</td>\n",
       "      <td>1</td>\n",
       "    </tr>\n",
       "  </tbody>\n",
       "</table>\n",
       "</div>"
      ],
      "text/plain": [
       "         date country  confirmed  deaths  recovered  active\n",
       "0  2020-01-26  Canada          1       0          0       1\n",
       "1  2020-01-27  Canada          1       0          0       1\n",
       "2  2020-01-28  Canada          1       0          0       1\n",
       "3  2020-01-28  Canada          1       0          0       1\n",
       "4  2020-01-29  Canada          1       0          0       1"
      ]
     },
     "execution_count": 13,
     "metadata": {},
     "output_type": "execute_result"
    }
   ],
   "source": [
    "cases.head()"
   ]
  },
  {
   "cell_type": "code",
   "execution_count": 16,
   "metadata": {},
   "outputs": [
    {
     "name": "stdout",
     "output_type": "stream",
     "text": [
      "<class 'pandas.core.frame.DataFrame'>\n",
      "RangeIndex: 1142 entries, 0 to 1141\n",
      "Data columns (total 21 columns):\n",
      " #   Column                               Non-Null Count  Dtype  \n",
      "---  ------                               --------------  -----  \n",
      " 0   country                              1142 non-null   object \n",
      " 1   iso_code                             1142 non-null   object \n",
      " 2   date                                 1142 non-null   object \n",
      " 3   total_vaccinations                   1142 non-null   int64  \n",
      " 4   people_fully_vaccinated              1142 non-null   int64  \n",
      " 5   daily_vaccinations                   1142 non-null   int64  \n",
      " 6   total_vaccinations_per_hundred       1142 non-null   float64\n",
      " 7   people_fully_vaccinated_per_hundred  1142 non-null   float64\n",
      " 8   vaccines                             1142 non-null   object \n",
      " 9   source_name                          1142 non-null   object \n",
      " 10  source_website                       1142 non-null   object \n",
      " 11  Covaxin                              44 non-null     object \n",
      " 12  EpiVacCorona                         76 non-null     object \n",
      " 13  Johnson&Johnson                      0 non-null      float64\n",
      " 14  Moderna                              500 non-null    object \n",
      " 15  Oxford/AstraZeneca                   659 non-null    object \n",
      " 16  Pfizer/BioNTech                      765 non-null    object \n",
      " 17  Sinopharm/Beijing                    141 non-null    object \n",
      " 18  Sinopharm/Wuhan                      111 non-null    object \n",
      " 19  Sinovac                              260 non-null    object \n",
      " 20  Sputnik V                            198 non-null    object \n",
      "dtypes: float64(3), int64(3), object(15)\n",
      "memory usage: 187.5+ KB\n"
     ]
    }
   ],
   "source": [
    "vaccines = pd.read_csv('../data/vaccine_data_cleaned.csv')\n",
    "vaccines.info()"
   ]
  },
  {
   "cell_type": "code",
   "execution_count": 18,
   "metadata": {
    "scrolled": true
   },
   "outputs": [
    {
     "data": {
      "text/plain": [
       "Ministry of Health                                             0.209282\n",
       "Government of the United Kingdom                               0.067426\n",
       "Official data from local governments via gogov.ru              0.066550\n",
       "Government of Israel                                           0.063047\n",
       "Centers for Disease Control and Prevention                     0.062172\n",
       "Secretary of Health                                            0.058669\n",
       "Department of Statistics and Health Information                0.057793\n",
       "Robert Koch Institut                                           0.056042\n",
       "Extraordinary commissioner for the Covid-19 emergency          0.056042\n",
       "Public Health France                                           0.055166\n",
       "National Health Commission                                     0.049037\n",
       "National Emergency Crisis and Disaster Management Authority    0.048161\n",
       "Government of Canada                                           0.042032\n",
       "COVID-19 Vaccine Information Platform                          0.041156\n",
       "Regional governments via Coronavirus Brasil                    0.038529\n",
       "Directorate General of Health Services                         0.028897\n",
       "Name: source_name, dtype: float64"
      ]
     },
     "execution_count": 18,
     "metadata": {},
     "output_type": "execute_result"
    }
   ],
   "source": [
    "vaccines.source_name.value_counts(normalize=True)"
   ]
  },
  {
   "cell_type": "code",
   "execution_count": null,
   "metadata": {},
   "outputs": [],
   "source": []
  }
 ],
 "metadata": {
  "kernelspec": {
   "display_name": "Python 3",
   "language": "python",
   "name": "python3"
  },
  "language_info": {
   "codemirror_mode": {
    "name": "ipython",
    "version": 3
   },
   "file_extension": ".py",
   "mimetype": "text/x-python",
   "name": "python",
   "nbconvert_exporter": "python",
   "pygments_lexer": "ipython3",
   "version": "3.8.5"
  }
 },
 "nbformat": 4,
 "nbformat_minor": 4
}
